{
 "cells": [
  {
   "cell_type": "markdown",
   "id": "8d879c26-efe8-4fad-9bb0-09e4239c9a53",
   "metadata": {},
   "source": [
    "# Description of the dataset:\n",
    "\n",
    "We are given with three datasets:\n",
    "1. Sales data: Data about sales\n",
    "2. Sensor stock levels: Estimated stock levels of products based on IoT sensors\n",
    "3. Sensor stock temperature:  IoT data from the temperature sensors in the storage facility for the products\n",
    "\n",
    "# Objective:\n",
    "Build models to check if we can predict the stock levels of products based on sales data and sensor data on an hourly basis inorder to help the client procure products from their suppliers. "
   ]
  },
  {
   "cell_type": "code",
   "execution_count": 2,
   "id": "fc442be0-ee99-44a0-a817-d2dfbf58296d",
   "metadata": {},
   "outputs": [],
   "source": [
    "# Importing all the libraries that are required:\n",
    "import glob\n",
    "import numpy as np\n",
    "import pandas as pd\n",
    "import seaborn as sns\n",
    "import plotly.express as px\n",
    "import matplotlib.pyplot as plt\n",
    "from datetime import datetime\n",
    "from sklearn.pipeline import Pipeline\n",
    "from sklearn.linear_model import LinearRegression\n",
    "from sklearn.ensemble import RandomForestRegressor\n",
    "from sklearn.model_selection import train_test_split, GridSearchCV\n",
    "from sklearn.preprocessing import StandardScaler, PolynomialFeatures\n",
    "from sklearn.metrics import mean_squared_error\n",
    "from sklearn.metrics import mean_absolute_error\n",
    "from sklearn.metrics import accuracy_score\n",
    "from sklearn.metrics import r2_score\n",
    "import warnings\n",
    "warnings.filterwarnings(action = 'ignore')"
   ]
  },
  {
   "cell_type": "markdown",
   "id": "b5b85973-170c-4540-af9a-5597ad86f22d",
   "metadata": {},
   "source": [
    "- We have 3 files here. Instead of reading them separately, we can use glob module.\n",
    "- glob.glob is a function in the Python glob module that returns a list of files or directories that match a specified pattern.\n",
    "- \"*.csv\" will match all the files in the current directory that have a \".csv\" file extension."
   ]
  },
  {
   "cell_type": "code",
   "execution_count": 3,
   "id": "e626c132-ef86-4015-86aa-27a044acd7a2",
   "metadata": {},
   "outputs": [
    {
     "data": {
      "text/plain": [
       "['sales.csv', 'sensor_stock_levels.csv', 'sensor_storage_temperature.csv']"
      ]
     },
     "execution_count": 3,
     "metadata": {},
     "output_type": "execute_result"
    }
   ],
   "source": [
    "file_list = glob.glob('*.csv')  # * to see all the files ending with .csv\n",
    "file_list"
   ]
  },
  {
   "cell_type": "code",
   "execution_count": 4,
   "id": "de1df8c3-1964-4e22-914c-39466b8432d0",
   "metadata": {},
   "outputs": [],
   "source": [
    "data = {name.split('.')[0]:pd.read_csv(name) for name in file_list}   # to extract only names "
   ]
  },
  {
   "cell_type": "code",
   "execution_count": 5,
   "id": "5b9c415f-1ca7-4eff-ab05-a7545fb46441",
   "metadata": {},
   "outputs": [
    {
     "data": {
      "text/plain": [
       "dict_keys(['sales', 'sensor_stock_levels', 'sensor_storage_temperature'])"
      ]
     },
     "execution_count": 5,
     "metadata": {},
     "output_type": "execute_result"
    }
   ],
   "source": [
    "data.keys()"
   ]
  },
  {
   "cell_type": "code",
   "execution_count": 6,
   "id": "8ce50183-1b8a-41cc-bca9-0592412b28b3",
   "metadata": {},
   "outputs": [
    {
     "data": {
      "text/html": [
       "<div>\n",
       "<style scoped>\n",
       "    .dataframe tbody tr th:only-of-type {\n",
       "        vertical-align: middle;\n",
       "    }\n",
       "\n",
       "    .dataframe tbody tr th {\n",
       "        vertical-align: top;\n",
       "    }\n",
       "\n",
       "    .dataframe thead th {\n",
       "        text-align: right;\n",
       "    }\n",
       "</style>\n",
       "<table border=\"1\" class=\"dataframe\">\n",
       "  <thead>\n",
       "    <tr style=\"text-align: right;\">\n",
       "      <th></th>\n",
       "      <th>Unnamed: 0</th>\n",
       "      <th>transaction_id</th>\n",
       "      <th>timestamp</th>\n",
       "      <th>product_id</th>\n",
       "      <th>category</th>\n",
       "      <th>customer_type</th>\n",
       "      <th>unit_price</th>\n",
       "      <th>quantity</th>\n",
       "      <th>total</th>\n",
       "      <th>payment_type</th>\n",
       "    </tr>\n",
       "  </thead>\n",
       "  <tbody>\n",
       "    <tr>\n",
       "      <th>0</th>\n",
       "      <td>0</td>\n",
       "      <td>a1c82654-c52c-45b3-8ce8-4c2a1efe63ed</td>\n",
       "      <td>2022-03-02 09:51:38</td>\n",
       "      <td>3bc6c1ea-0198-46de-9ffd-514ae3338713</td>\n",
       "      <td>fruit</td>\n",
       "      <td>gold</td>\n",
       "      <td>3.99</td>\n",
       "      <td>2</td>\n",
       "      <td>7.98</td>\n",
       "      <td>e-wallet</td>\n",
       "    </tr>\n",
       "    <tr>\n",
       "      <th>1</th>\n",
       "      <td>1</td>\n",
       "      <td>931ad550-09e8-4da6-beaa-8c9d17be9c60</td>\n",
       "      <td>2022-03-06 10:33:59</td>\n",
       "      <td>ad81b46c-bf38-41cf-9b54-5fe7f5eba93e</td>\n",
       "      <td>fruit</td>\n",
       "      <td>standard</td>\n",
       "      <td>3.99</td>\n",
       "      <td>1</td>\n",
       "      <td>3.99</td>\n",
       "      <td>e-wallet</td>\n",
       "    </tr>\n",
       "    <tr>\n",
       "      <th>2</th>\n",
       "      <td>2</td>\n",
       "      <td>ae133534-6f61-4cd6-b6b8-d1c1d8d90aea</td>\n",
       "      <td>2022-03-04 17:20:21</td>\n",
       "      <td>7c55cbd4-f306-4c04-a030-628cbe7867c1</td>\n",
       "      <td>fruit</td>\n",
       "      <td>premium</td>\n",
       "      <td>0.19</td>\n",
       "      <td>2</td>\n",
       "      <td>0.38</td>\n",
       "      <td>e-wallet</td>\n",
       "    </tr>\n",
       "  </tbody>\n",
       "</table>\n",
       "</div>"
      ],
      "text/plain": [
       "   Unnamed: 0                        transaction_id            timestamp  \\\n",
       "0           0  a1c82654-c52c-45b3-8ce8-4c2a1efe63ed  2022-03-02 09:51:38   \n",
       "1           1  931ad550-09e8-4da6-beaa-8c9d17be9c60  2022-03-06 10:33:59   \n",
       "2           2  ae133534-6f61-4cd6-b6b8-d1c1d8d90aea  2022-03-04 17:20:21   \n",
       "\n",
       "                             product_id category customer_type  unit_price  \\\n",
       "0  3bc6c1ea-0198-46de-9ffd-514ae3338713    fruit          gold        3.99   \n",
       "1  ad81b46c-bf38-41cf-9b54-5fe7f5eba93e    fruit      standard        3.99   \n",
       "2  7c55cbd4-f306-4c04-a030-628cbe7867c1    fruit       premium        0.19   \n",
       "\n",
       "   quantity  total payment_type  \n",
       "0         2   7.98     e-wallet  \n",
       "1         1   3.99     e-wallet  \n",
       "2         2   0.38     e-wallet  "
      ]
     },
     "execution_count": 6,
     "metadata": {},
     "output_type": "execute_result"
    }
   ],
   "source": [
    "data['sales'].head(3)"
   ]
  },
  {
   "cell_type": "markdown",
   "id": "95394bde-a5e4-4164-8563-0de0b118e2a9",
   "metadata": {},
   "source": [
    "Dropping the column - 'Unnamed: 0'"
   ]
  },
  {
   "cell_type": "code",
   "execution_count": 7,
   "id": "7aac44dd-03bb-44ae-9147-4c68649ebef8",
   "metadata": {},
   "outputs": [],
   "source": [
    "data['sales'].drop(columns = 'Unnamed: 0', inplace = True)"
   ]
  },
  {
   "cell_type": "code",
   "execution_count": 8,
   "id": "30aaeebe-3254-4555-800c-fc02954d2a0e",
   "metadata": {},
   "outputs": [],
   "source": [
    "data['sensor_stock_levels'].drop(columns = 'Unnamed: 0', inplace = True)"
   ]
  },
  {
   "cell_type": "code",
   "execution_count": 9,
   "id": "8f46c4e9-a1f9-49cb-bc0c-4ae44e29dbc3",
   "metadata": {},
   "outputs": [],
   "source": [
    "data['sensor_storage_temperature'].drop(columns = 'Unnamed: 0', inplace = True)"
   ]
  },
  {
   "cell_type": "markdown",
   "id": "ecf8ba7d-1da4-40c5-9904-b84c17156eba",
   "metadata": {},
   "source": [
    "To check if there are any null/missing data, to see how many columns and rows are present and  to know the data type of each column present in the DataFrame, we can use .info() method"
   ]
  },
  {
   "cell_type": "code",
   "execution_count": 10,
   "id": "73fa0d54-9322-4077-8a9b-94689048462e",
   "metadata": {},
   "outputs": [
    {
     "name": "stdout",
     "output_type": "stream",
     "text": [
      "<class 'pandas.core.frame.DataFrame'>\n",
      "RangeIndex: 7829 entries, 0 to 7828\n",
      "Data columns (total 9 columns):\n",
      " #   Column          Non-Null Count  Dtype  \n",
      "---  ------          --------------  -----  \n",
      " 0   transaction_id  7829 non-null   object \n",
      " 1   timestamp       7829 non-null   object \n",
      " 2   product_id      7829 non-null   object \n",
      " 3   category        7829 non-null   object \n",
      " 4   customer_type   7829 non-null   object \n",
      " 5   unit_price      7829 non-null   float64\n",
      " 6   quantity        7829 non-null   int64  \n",
      " 7   total           7829 non-null   float64\n",
      " 8   payment_type    7829 non-null   object \n",
      "dtypes: float64(2), int64(1), object(6)\n",
      "memory usage: 550.6+ KB\n"
     ]
    }
   ],
   "source": [
    "data['sales'].info()"
   ]
  },
  {
   "cell_type": "code",
   "execution_count": 11,
   "id": "590749a7-7485-4843-88eb-1f71e7575e69",
   "metadata": {},
   "outputs": [
    {
     "name": "stdout",
     "output_type": "stream",
     "text": [
      "<class 'pandas.core.frame.DataFrame'>\n",
      "RangeIndex: 15000 entries, 0 to 14999\n",
      "Data columns (total 4 columns):\n",
      " #   Column               Non-Null Count  Dtype  \n",
      "---  ------               --------------  -----  \n",
      " 0   id                   15000 non-null  object \n",
      " 1   timestamp            15000 non-null  object \n",
      " 2   product_id           15000 non-null  object \n",
      " 3   estimated_stock_pct  15000 non-null  float64\n",
      "dtypes: float64(1), object(3)\n",
      "memory usage: 468.9+ KB\n"
     ]
    }
   ],
   "source": [
    "data['sensor_stock_levels'].info()"
   ]
  },
  {
   "cell_type": "code",
   "execution_count": 12,
   "id": "cd712341-2fd2-42d0-9d05-319732832280",
   "metadata": {},
   "outputs": [
    {
     "name": "stdout",
     "output_type": "stream",
     "text": [
      "<class 'pandas.core.frame.DataFrame'>\n",
      "RangeIndex: 23890 entries, 0 to 23889\n",
      "Data columns (total 3 columns):\n",
      " #   Column       Non-Null Count  Dtype  \n",
      "---  ------       --------------  -----  \n",
      " 0   id           23890 non-null  object \n",
      " 1   timestamp    23890 non-null  object \n",
      " 2   temperature  23890 non-null  float64\n",
      "dtypes: float64(1), object(2)\n",
      "memory usage: 560.0+ KB\n"
     ]
    }
   ],
   "source": [
    "data['sensor_storage_temperature'].info()"
   ]
  },
  {
   "cell_type": "markdown",
   "id": "632118ae-a566-4b2f-a6ab-9771c58a4fc3",
   "metadata": {},
   "source": [
    "- There are no null values, the only issue is with the timestamp column.\n",
    "- The data type for this column is string, it is essential to convert it to timestamp for further analysis.\n"
   ]
  },
  {
   "cell_type": "code",
   "execution_count": 13,
   "id": "947b35d8-125a-4d88-97ed-6d277fc44bba",
   "metadata": {},
   "outputs": [],
   "source": [
    "# Converting to datetime datatype:\n",
    "\n",
    "data['sales']['timestamp']  = pd.to_datetime(data['sales']['timestamp'], errors = 'coerce') # if there is non numeric type, coerce will set as NaN\n",
    "data['sensor_stock_levels']['timestamp'] = pd.to_datetime(data['sensor_stock_levels']['timestamp'],errors = 'coerce')\n",
    "data['sensor_storage_temperature']['timestamp'] = pd.to_datetime(data['sensor_storage_temperature']['timestamp'],errors = 'coerce')"
   ]
  },
  {
   "cell_type": "code",
   "execution_count": 14,
   "id": "c4ab01a1-12e9-4a6c-92eb-29211456f33a",
   "metadata": {},
   "outputs": [
    {
     "data": {
      "text/plain": [
       "0      2022-03-02 09:51:38\n",
       "1      2022-03-06 10:33:59\n",
       "2      2022-03-04 17:20:21\n",
       "3      2022-03-02 17:23:58\n",
       "4      2022-03-05 14:32:43\n",
       "               ...        \n",
       "7824   2022-03-03 18:22:09\n",
       "7825   2022-03-04 19:14:46\n",
       "7826   2022-03-03 14:00:09\n",
       "7827   2022-03-04 15:11:38\n",
       "7828   2022-03-06 13:50:36\n",
       "Name: timestamp, Length: 7829, dtype: datetime64[ns]"
      ]
     },
     "execution_count": 14,
     "metadata": {},
     "output_type": "execute_result"
    }
   ],
   "source": [
    "  data['sales']['timestamp'] "
   ]
  },
  {
   "cell_type": "code",
   "execution_count": 15,
   "id": "031690ca-775b-420e-9e51-4bc28a3a4586",
   "metadata": {},
   "outputs": [
    {
     "name": "stdout",
     "output_type": "stream",
     "text": [
      "<class 'pandas.core.frame.DataFrame'>\n",
      "RangeIndex: 23890 entries, 0 to 23889\n",
      "Data columns (total 3 columns):\n",
      " #   Column       Non-Null Count  Dtype         \n",
      "---  ------       --------------  -----         \n",
      " 0   id           23890 non-null  object        \n",
      " 1   timestamp    23890 non-null  datetime64[ns]\n",
      " 2   temperature  23890 non-null  float64       \n",
      "dtypes: datetime64[ns](1), float64(1), object(1)\n",
      "memory usage: 560.0+ KB\n"
     ]
    }
   ],
   "source": [
    "data['sensor_storage_temperature'].info()"
   ]
  },
  {
   "cell_type": "markdown",
   "id": "67fc277c-ce6d-4c68-9667-70bee5cc3c76",
   "metadata": {},
   "source": [
    "Now the analysis on timestamp column is much easier as we have converted it to datatime format."
   ]
  },
  {
   "cell_type": "markdown",
   "id": "aca23aca-6abc-4453-bcc0-5d7c3c325beb",
   "metadata": {},
   "source": [
    "# Merging the data\n",
    "- Inorder to merge the data we have only timestamp column that is common in all the three datasets\n",
    "- But the time is varying in few minutes between all the 3 datasets.\n",
    "- Inorder to merge the data and analyse, we need to convert the timestamp to hourly basis.\n",
    "- For eg: If the time in \n",
    "sales data : 09:51:38,\n",
    "sensor stock levels: 09:36:46,\n",
    "sensoor storage temperature: 09:22:04, is in this format\n",
    "- If we can convert the time to hourly basis and if all three timestamp shows 09:00:00, we can easily merge the datasets\n"
   ]
  },
  {
   "cell_type": "code",
   "execution_count": 16,
   "id": "afa53b3d-c4df-4839-a828-efd9119e36e2",
   "metadata": {},
   "outputs": [],
   "source": [
    "# To convert all the time in hourly basis\n",
    "\n",
    "def convert_timestamp_to_hourly(data, column):\n",
    "    dummy = data.copy() # copying the data to a dummy variable\n",
    "    new_ts = dummy[column].tolist() # here the column is timestamp.\n",
    "   \n",
    "    new_ts = [i.strftime('%Y-%m-%d %H:00:00') for i in new_ts] # to convert time to H:00:00 minutes\n",
    "    \n",
    "    dummy[column] = new_ts\n",
    "    return dummy"
   ]
  },
  {
   "cell_type": "code",
   "execution_count": 17,
   "id": "f6c5f539-c7b5-49b2-a259-1f5d3ab7b50e",
   "metadata": {},
   "outputs": [],
   "source": [
    "data['sales'] = convert_timestamp_to_hourly(data['sales'],'timestamp')\n",
    "data['sensor_stock_levels'] = convert_timestamp_to_hourly(data['sensor_stock_levels'], 'timestamp')\n",
    "data['sensor_storage_temperature'] = convert_timestamp_to_hourly(data['sensor_storage_temperature'], 'timestamp')"
   ]
  },
  {
   "cell_type": "markdown",
   "id": "98ba54d3-6ab8-42e2-8fc1-406132ce37c8",
   "metadata": {},
   "source": [
    "In the below table, we can see that the time has changed and the minutes,seconds are all zeros"
   ]
  },
  {
   "cell_type": "code",
   "execution_count": 18,
   "id": "ed6eead5-7a38-4d7c-8a3e-c6a4eefbc0e0",
   "metadata": {},
   "outputs": [
    {
     "data": {
      "text/html": [
       "<div>\n",
       "<style scoped>\n",
       "    .dataframe tbody tr th:only-of-type {\n",
       "        vertical-align: middle;\n",
       "    }\n",
       "\n",
       "    .dataframe tbody tr th {\n",
       "        vertical-align: top;\n",
       "    }\n",
       "\n",
       "    .dataframe thead th {\n",
       "        text-align: right;\n",
       "    }\n",
       "</style>\n",
       "<table border=\"1\" class=\"dataframe\">\n",
       "  <thead>\n",
       "    <tr style=\"text-align: right;\">\n",
       "      <th></th>\n",
       "      <th>id</th>\n",
       "      <th>timestamp</th>\n",
       "      <th>product_id</th>\n",
       "      <th>estimated_stock_pct</th>\n",
       "    </tr>\n",
       "  </thead>\n",
       "  <tbody>\n",
       "    <tr>\n",
       "      <th>0</th>\n",
       "      <td>4220e505-c247-478d-9831-6b9f87a4488a</td>\n",
       "      <td>2022-03-07 12:00:00</td>\n",
       "      <td>f658605e-75f3-4fed-a655-c0903f344427</td>\n",
       "      <td>0.75</td>\n",
       "    </tr>\n",
       "    <tr>\n",
       "      <th>1</th>\n",
       "      <td>f2612b26-fc82-49ea-8940-0751fdd4d9ef</td>\n",
       "      <td>2022-03-07 16:00:00</td>\n",
       "      <td>de06083a-f5c0-451d-b2f4-9ab88b52609d</td>\n",
       "      <td>0.48</td>\n",
       "    </tr>\n",
       "    <tr>\n",
       "      <th>2</th>\n",
       "      <td>989a287f-67e6-4478-aa49-c3a35dac0e2e</td>\n",
       "      <td>2022-03-01 18:00:00</td>\n",
       "      <td>ce8f3a04-d1a4-43b1-a7c2-fa1b8e7674c8</td>\n",
       "      <td>0.58</td>\n",
       "    </tr>\n",
       "    <tr>\n",
       "      <th>3</th>\n",
       "      <td>af8e5683-d247-46ac-9909-1a77bdebefb2</td>\n",
       "      <td>2022-03-02 14:00:00</td>\n",
       "      <td>c21e3ba9-92a3-4745-92c2-6faef73223f7</td>\n",
       "      <td>0.79</td>\n",
       "    </tr>\n",
       "  </tbody>\n",
       "</table>\n",
       "</div>"
      ],
      "text/plain": [
       "                                     id            timestamp  \\\n",
       "0  4220e505-c247-478d-9831-6b9f87a4488a  2022-03-07 12:00:00   \n",
       "1  f2612b26-fc82-49ea-8940-0751fdd4d9ef  2022-03-07 16:00:00   \n",
       "2  989a287f-67e6-4478-aa49-c3a35dac0e2e  2022-03-01 18:00:00   \n",
       "3  af8e5683-d247-46ac-9909-1a77bdebefb2  2022-03-02 14:00:00   \n",
       "\n",
       "                             product_id  estimated_stock_pct  \n",
       "0  f658605e-75f3-4fed-a655-c0903f344427                 0.75  \n",
       "1  de06083a-f5c0-451d-b2f4-9ab88b52609d                 0.48  \n",
       "2  ce8f3a04-d1a4-43b1-a7c2-fa1b8e7674c8                 0.58  \n",
       "3  c21e3ba9-92a3-4745-92c2-6faef73223f7                 0.79  "
      ]
     },
     "execution_count": 18,
     "metadata": {},
     "output_type": "execute_result"
    }
   ],
   "source": [
    "data['sensor_stock_levels'].head(4)"
   ]
  },
  {
   "cell_type": "markdown",
   "id": "97138ada-fe21-4a25-be35-02bccd8acb8e",
   "metadata": {},
   "source": [
    "Now we have timestamp that can be matched with all the 3 datasets and merged."
   ]
  },
  {
   "cell_type": "code",
   "execution_count": 19,
   "id": "f0811906-498b-401e-9566-8de21fac16fb",
   "metadata": {},
   "outputs": [
    {
     "data": {
      "text/html": [
       "<div>\n",
       "<style scoped>\n",
       "    .dataframe tbody tr th:only-of-type {\n",
       "        vertical-align: middle;\n",
       "    }\n",
       "\n",
       "    .dataframe tbody tr th {\n",
       "        vertical-align: top;\n",
       "    }\n",
       "\n",
       "    .dataframe thead th {\n",
       "        text-align: right;\n",
       "    }\n",
       "</style>\n",
       "<table border=\"1\" class=\"dataframe\">\n",
       "  <thead>\n",
       "    <tr style=\"text-align: right;\">\n",
       "      <th></th>\n",
       "      <th>timestamp</th>\n",
       "      <th>product_id</th>\n",
       "      <th>quantity</th>\n",
       "    </tr>\n",
       "  </thead>\n",
       "  <tbody>\n",
       "    <tr>\n",
       "      <th>0</th>\n",
       "      <td>2022-03-01 09:00:00</td>\n",
       "      <td>00e120bb-89d6-4df5-bc48-a051148e3d03</td>\n",
       "      <td>3</td>\n",
       "    </tr>\n",
       "    <tr>\n",
       "      <th>1</th>\n",
       "      <td>2022-03-01 09:00:00</td>\n",
       "      <td>01f3cdd9-8e9e-4dff-9b5c-69698a0388d0</td>\n",
       "      <td>3</td>\n",
       "    </tr>\n",
       "    <tr>\n",
       "      <th>2</th>\n",
       "      <td>2022-03-01 09:00:00</td>\n",
       "      <td>03a2557a-aa12-4add-a6d4-77dc36342067</td>\n",
       "      <td>3</td>\n",
       "    </tr>\n",
       "    <tr>\n",
       "      <th>3</th>\n",
       "      <td>2022-03-01 09:00:00</td>\n",
       "      <td>049b2171-0eeb-4a3e-bf98-0c290c7821da</td>\n",
       "      <td>7</td>\n",
       "    </tr>\n",
       "    <tr>\n",
       "      <th>4</th>\n",
       "      <td>2022-03-01 09:00:00</td>\n",
       "      <td>04da844d-8dba-4470-9119-e534d52a03a0</td>\n",
       "      <td>11</td>\n",
       "    </tr>\n",
       "  </tbody>\n",
       "</table>\n",
       "</div>"
      ],
      "text/plain": [
       "             timestamp                            product_id  quantity\n",
       "0  2022-03-01 09:00:00  00e120bb-89d6-4df5-bc48-a051148e3d03         3\n",
       "1  2022-03-01 09:00:00  01f3cdd9-8e9e-4dff-9b5c-69698a0388d0         3\n",
       "2  2022-03-01 09:00:00  03a2557a-aa12-4add-a6d4-77dc36342067         3\n",
       "3  2022-03-01 09:00:00  049b2171-0eeb-4a3e-bf98-0c290c7821da         7\n",
       "4  2022-03-01 09:00:00  04da844d-8dba-4470-9119-e534d52a03a0        11"
      ]
     },
     "execution_count": 19,
     "metadata": {},
     "output_type": "execute_result"
    }
   ],
   "source": [
    "# For sales data: grouping by timestamp, using aggregate function 'sum' to sum up all the values of quantiy column and then reindedxing the dataframe..\n",
    "\n",
    "sales = data['sales'].groupby(['timestamp', 'product_id']).agg({'quantity': 'sum'}).reset_index()\n",
    "sales.head()"
   ]
  },
  {
   "cell_type": "code",
   "execution_count": 20,
   "id": "937784b8-680d-4f10-add2-35a36c3ea3cc",
   "metadata": {},
   "outputs": [
    {
     "data": {
      "text/html": [
       "<div>\n",
       "<style scoped>\n",
       "    .dataframe tbody tr th:only-of-type {\n",
       "        vertical-align: middle;\n",
       "    }\n",
       "\n",
       "    .dataframe tbody tr th {\n",
       "        vertical-align: top;\n",
       "    }\n",
       "\n",
       "    .dataframe thead th {\n",
       "        text-align: right;\n",
       "    }\n",
       "</style>\n",
       "<table border=\"1\" class=\"dataframe\">\n",
       "  <thead>\n",
       "    <tr style=\"text-align: right;\">\n",
       "      <th></th>\n",
       "      <th>timestamp</th>\n",
       "      <th>product_id</th>\n",
       "      <th>estimated_stock_pct</th>\n",
       "    </tr>\n",
       "  </thead>\n",
       "  <tbody>\n",
       "    <tr>\n",
       "      <th>0</th>\n",
       "      <td>2022-03-01 09:00:00</td>\n",
       "      <td>00e120bb-89d6-4df5-bc48-a051148e3d03</td>\n",
       "      <td>0.89</td>\n",
       "    </tr>\n",
       "    <tr>\n",
       "      <th>1</th>\n",
       "      <td>2022-03-01 09:00:00</td>\n",
       "      <td>01f3cdd9-8e9e-4dff-9b5c-69698a0388d0</td>\n",
       "      <td>0.14</td>\n",
       "    </tr>\n",
       "    <tr>\n",
       "      <th>2</th>\n",
       "      <td>2022-03-01 09:00:00</td>\n",
       "      <td>01ff0803-ae73-4234-971d-5713c97b7f4b</td>\n",
       "      <td>0.67</td>\n",
       "    </tr>\n",
       "    <tr>\n",
       "      <th>3</th>\n",
       "      <td>2022-03-01 09:00:00</td>\n",
       "      <td>0363eb21-8c74-47e1-a216-c37e565e5ceb</td>\n",
       "      <td>0.82</td>\n",
       "    </tr>\n",
       "    <tr>\n",
       "      <th>4</th>\n",
       "      <td>2022-03-01 09:00:00</td>\n",
       "      <td>03f0b20e-3b5b-444f-bc39-cdfa2523d4bc</td>\n",
       "      <td>0.05</td>\n",
       "    </tr>\n",
       "  </tbody>\n",
       "</table>\n",
       "</div>"
      ],
      "text/plain": [
       "             timestamp                            product_id  \\\n",
       "0  2022-03-01 09:00:00  00e120bb-89d6-4df5-bc48-a051148e3d03   \n",
       "1  2022-03-01 09:00:00  01f3cdd9-8e9e-4dff-9b5c-69698a0388d0   \n",
       "2  2022-03-01 09:00:00  01ff0803-ae73-4234-971d-5713c97b7f4b   \n",
       "3  2022-03-01 09:00:00  0363eb21-8c74-47e1-a216-c37e565e5ceb   \n",
       "4  2022-03-01 09:00:00  03f0b20e-3b5b-444f-bc39-cdfa2523d4bc   \n",
       "\n",
       "   estimated_stock_pct  \n",
       "0                 0.89  \n",
       "1                 0.14  \n",
       "2                 0.67  \n",
       "3                 0.82  \n",
       "4                 0.05  "
      ]
     },
     "execution_count": 20,
     "metadata": {},
     "output_type": "execute_result"
    }
   ],
   "source": [
    "# For sensor stock levels data: grouping by timestamp and product id, using aggregate function 'mean' to take average of all the estimated stock product and then reindedxing the dataframe\n",
    "stock = data['sensor_stock_levels'].groupby(['timestamp', 'product_id']).agg({'estimated_stock_pct': 'mean'}).reset_index()\n",
    "stock.head()"
   ]
  },
  {
   "cell_type": "code",
   "execution_count": 21,
   "id": "0f407c2a-b982-4c44-b4a4-6f964297d997",
   "metadata": {},
   "outputs": [
    {
     "data": {
      "text/html": [
       "<div>\n",
       "<style scoped>\n",
       "    .dataframe tbody tr th:only-of-type {\n",
       "        vertical-align: middle;\n",
       "    }\n",
       "\n",
       "    .dataframe tbody tr th {\n",
       "        vertical-align: top;\n",
       "    }\n",
       "\n",
       "    .dataframe thead th {\n",
       "        text-align: right;\n",
       "    }\n",
       "</style>\n",
       "<table border=\"1\" class=\"dataframe\">\n",
       "  <thead>\n",
       "    <tr style=\"text-align: right;\">\n",
       "      <th></th>\n",
       "      <th>timestamp</th>\n",
       "      <th>temperature</th>\n",
       "    </tr>\n",
       "  </thead>\n",
       "  <tbody>\n",
       "    <tr>\n",
       "      <th>0</th>\n",
       "      <td>2022-03-01 09:00:00</td>\n",
       "      <td>-0.028850</td>\n",
       "    </tr>\n",
       "    <tr>\n",
       "      <th>1</th>\n",
       "      <td>2022-03-01 10:00:00</td>\n",
       "      <td>1.284314</td>\n",
       "    </tr>\n",
       "    <tr>\n",
       "      <th>2</th>\n",
       "      <td>2022-03-01 11:00:00</td>\n",
       "      <td>-0.560000</td>\n",
       "    </tr>\n",
       "    <tr>\n",
       "      <th>3</th>\n",
       "      <td>2022-03-01 12:00:00</td>\n",
       "      <td>-0.537721</td>\n",
       "    </tr>\n",
       "    <tr>\n",
       "      <th>4</th>\n",
       "      <td>2022-03-01 13:00:00</td>\n",
       "      <td>-0.188734</td>\n",
       "    </tr>\n",
       "  </tbody>\n",
       "</table>\n",
       "</div>"
      ],
      "text/plain": [
       "             timestamp  temperature\n",
       "0  2022-03-01 09:00:00    -0.028850\n",
       "1  2022-03-01 10:00:00     1.284314\n",
       "2  2022-03-01 11:00:00    -0.560000\n",
       "3  2022-03-01 12:00:00    -0.537721\n",
       "4  2022-03-01 13:00:00    -0.188734"
      ]
     },
     "execution_count": 21,
     "metadata": {},
     "output_type": "execute_result"
    }
   ],
   "source": [
    "# For sensor storage temperature: grouping by timestamp, using aggregate function 'mean' to take average of all the temperatures and then reindedxing the dataframe\n",
    "temperature = data['sensor_storage_temperature'].groupby(['timestamp']).agg({'temperature': 'mean'}).reset_index()\n",
    "temperature.head()"
   ]
  },
  {
   "cell_type": "code",
   "execution_count": 22,
   "id": "639c1b65-274f-490d-a66a-067e2b78ae20",
   "metadata": {},
   "outputs": [
    {
     "data": {
      "text/html": [
       "<div>\n",
       "<style scoped>\n",
       "    .dataframe tbody tr th:only-of-type {\n",
       "        vertical-align: middle;\n",
       "    }\n",
       "\n",
       "    .dataframe tbody tr th {\n",
       "        vertical-align: top;\n",
       "    }\n",
       "\n",
       "    .dataframe thead th {\n",
       "        text-align: right;\n",
       "    }\n",
       "</style>\n",
       "<table border=\"1\" class=\"dataframe\">\n",
       "  <thead>\n",
       "    <tr style=\"text-align: right;\">\n",
       "      <th></th>\n",
       "      <th>timestamp</th>\n",
       "      <th>product_id</th>\n",
       "      <th>estimated_stock_pct</th>\n",
       "      <th>quantity</th>\n",
       "    </tr>\n",
       "  </thead>\n",
       "  <tbody>\n",
       "    <tr>\n",
       "      <th>0</th>\n",
       "      <td>2022-03-01 09:00:00</td>\n",
       "      <td>00e120bb-89d6-4df5-bc48-a051148e3d03</td>\n",
       "      <td>0.89</td>\n",
       "      <td>3.0</td>\n",
       "    </tr>\n",
       "    <tr>\n",
       "      <th>1</th>\n",
       "      <td>2022-03-01 09:00:00</td>\n",
       "      <td>01f3cdd9-8e9e-4dff-9b5c-69698a0388d0</td>\n",
       "      <td>0.14</td>\n",
       "      <td>3.0</td>\n",
       "    </tr>\n",
       "    <tr>\n",
       "      <th>2</th>\n",
       "      <td>2022-03-01 09:00:00</td>\n",
       "      <td>01ff0803-ae73-4234-971d-5713c97b7f4b</td>\n",
       "      <td>0.67</td>\n",
       "      <td>NaN</td>\n",
       "    </tr>\n",
       "    <tr>\n",
       "      <th>3</th>\n",
       "      <td>2022-03-01 09:00:00</td>\n",
       "      <td>0363eb21-8c74-47e1-a216-c37e565e5ceb</td>\n",
       "      <td>0.82</td>\n",
       "      <td>NaN</td>\n",
       "    </tr>\n",
       "    <tr>\n",
       "      <th>4</th>\n",
       "      <td>2022-03-01 09:00:00</td>\n",
       "      <td>03f0b20e-3b5b-444f-bc39-cdfa2523d4bc</td>\n",
       "      <td>0.05</td>\n",
       "      <td>NaN</td>\n",
       "    </tr>\n",
       "    <tr>\n",
       "      <th>...</th>\n",
       "      <td>...</td>\n",
       "      <td>...</td>\n",
       "      <td>...</td>\n",
       "      <td>...</td>\n",
       "    </tr>\n",
       "    <tr>\n",
       "      <th>10840</th>\n",
       "      <td>2022-03-07 19:00:00</td>\n",
       "      <td>ecac012c-1dec-41d4-9ebd-56fb7166f6d9</td>\n",
       "      <td>0.50</td>\n",
       "      <td>4.0</td>\n",
       "    </tr>\n",
       "    <tr>\n",
       "      <th>10841</th>\n",
       "      <td>2022-03-07 19:00:00</td>\n",
       "      <td>ed7f6b14-67c9-42a4-8576-c803020eedda</td>\n",
       "      <td>0.26</td>\n",
       "      <td>NaN</td>\n",
       "    </tr>\n",
       "    <tr>\n",
       "      <th>10842</th>\n",
       "      <td>2022-03-07 19:00:00</td>\n",
       "      <td>edf4ac93-4e14-4a3d-8c60-e715210cf3f9</td>\n",
       "      <td>0.78</td>\n",
       "      <td>3.0</td>\n",
       "    </tr>\n",
       "    <tr>\n",
       "      <th>10843</th>\n",
       "      <td>2022-03-07 19:00:00</td>\n",
       "      <td>f01b189c-6345-4639-a8d1-89e1fc67c443</td>\n",
       "      <td>0.92</td>\n",
       "      <td>3.0</td>\n",
       "    </tr>\n",
       "    <tr>\n",
       "      <th>10844</th>\n",
       "      <td>2022-03-07 19:00:00</td>\n",
       "      <td>f3bec808-bee0-4597-a129-53a3a2805a43</td>\n",
       "      <td>0.01</td>\n",
       "      <td>2.0</td>\n",
       "    </tr>\n",
       "  </tbody>\n",
       "</table>\n",
       "<p>10845 rows × 4 columns</p>\n",
       "</div>"
      ],
      "text/plain": [
       "                 timestamp                            product_id  \\\n",
       "0      2022-03-01 09:00:00  00e120bb-89d6-4df5-bc48-a051148e3d03   \n",
       "1      2022-03-01 09:00:00  01f3cdd9-8e9e-4dff-9b5c-69698a0388d0   \n",
       "2      2022-03-01 09:00:00  01ff0803-ae73-4234-971d-5713c97b7f4b   \n",
       "3      2022-03-01 09:00:00  0363eb21-8c74-47e1-a216-c37e565e5ceb   \n",
       "4      2022-03-01 09:00:00  03f0b20e-3b5b-444f-bc39-cdfa2523d4bc   \n",
       "...                    ...                                   ...   \n",
       "10840  2022-03-07 19:00:00  ecac012c-1dec-41d4-9ebd-56fb7166f6d9   \n",
       "10841  2022-03-07 19:00:00  ed7f6b14-67c9-42a4-8576-c803020eedda   \n",
       "10842  2022-03-07 19:00:00  edf4ac93-4e14-4a3d-8c60-e715210cf3f9   \n",
       "10843  2022-03-07 19:00:00  f01b189c-6345-4639-a8d1-89e1fc67c443   \n",
       "10844  2022-03-07 19:00:00  f3bec808-bee0-4597-a129-53a3a2805a43   \n",
       "\n",
       "       estimated_stock_pct  quantity  \n",
       "0                     0.89       3.0  \n",
       "1                     0.14       3.0  \n",
       "2                     0.67       NaN  \n",
       "3                     0.82       NaN  \n",
       "4                     0.05       NaN  \n",
       "...                    ...       ...  \n",
       "10840                 0.50       4.0  \n",
       "10841                 0.26       NaN  \n",
       "10842                 0.78       3.0  \n",
       "10843                 0.92       3.0  \n",
       "10844                 0.01       2.0  \n",
       "\n",
       "[10845 rows x 4 columns]"
      ]
     },
     "execution_count": 22,
     "metadata": {},
     "output_type": "execute_result"
    }
   ],
   "source": [
    "merged = stock.merge(sales, on = ['timestamp', 'product_id'], how = 'left')\n",
    "merged"
   ]
  },
  {
   "cell_type": "code",
   "execution_count": 23,
   "id": "fbe947bd-1f02-4112-9a3a-ab7bdd8ff947",
   "metadata": {},
   "outputs": [
    {
     "data": {
      "text/html": [
       "<div>\n",
       "<style scoped>\n",
       "    .dataframe tbody tr th:only-of-type {\n",
       "        vertical-align: middle;\n",
       "    }\n",
       "\n",
       "    .dataframe tbody tr th {\n",
       "        vertical-align: top;\n",
       "    }\n",
       "\n",
       "    .dataframe thead th {\n",
       "        text-align: right;\n",
       "    }\n",
       "</style>\n",
       "<table border=\"1\" class=\"dataframe\">\n",
       "  <thead>\n",
       "    <tr style=\"text-align: right;\">\n",
       "      <th></th>\n",
       "      <th>timestamp</th>\n",
       "      <th>product_id</th>\n",
       "      <th>estimated_stock_pct</th>\n",
       "      <th>quantity</th>\n",
       "      <th>temperature</th>\n",
       "    </tr>\n",
       "  </thead>\n",
       "  <tbody>\n",
       "    <tr>\n",
       "      <th>0</th>\n",
       "      <td>2022-03-01 09:00:00</td>\n",
       "      <td>00e120bb-89d6-4df5-bc48-a051148e3d03</td>\n",
       "      <td>0.89</td>\n",
       "      <td>3.0</td>\n",
       "      <td>-0.02885</td>\n",
       "    </tr>\n",
       "    <tr>\n",
       "      <th>1</th>\n",
       "      <td>2022-03-01 09:00:00</td>\n",
       "      <td>01f3cdd9-8e9e-4dff-9b5c-69698a0388d0</td>\n",
       "      <td>0.14</td>\n",
       "      <td>3.0</td>\n",
       "      <td>-0.02885</td>\n",
       "    </tr>\n",
       "    <tr>\n",
       "      <th>2</th>\n",
       "      <td>2022-03-01 09:00:00</td>\n",
       "      <td>01ff0803-ae73-4234-971d-5713c97b7f4b</td>\n",
       "      <td>0.67</td>\n",
       "      <td>NaN</td>\n",
       "      <td>-0.02885</td>\n",
       "    </tr>\n",
       "    <tr>\n",
       "      <th>3</th>\n",
       "      <td>2022-03-01 09:00:00</td>\n",
       "      <td>0363eb21-8c74-47e1-a216-c37e565e5ceb</td>\n",
       "      <td>0.82</td>\n",
       "      <td>NaN</td>\n",
       "      <td>-0.02885</td>\n",
       "    </tr>\n",
       "    <tr>\n",
       "      <th>4</th>\n",
       "      <td>2022-03-01 09:00:00</td>\n",
       "      <td>03f0b20e-3b5b-444f-bc39-cdfa2523d4bc</td>\n",
       "      <td>0.05</td>\n",
       "      <td>NaN</td>\n",
       "      <td>-0.02885</td>\n",
       "    </tr>\n",
       "  </tbody>\n",
       "</table>\n",
       "</div>"
      ],
      "text/plain": [
       "             timestamp                            product_id  \\\n",
       "0  2022-03-01 09:00:00  00e120bb-89d6-4df5-bc48-a051148e3d03   \n",
       "1  2022-03-01 09:00:00  01f3cdd9-8e9e-4dff-9b5c-69698a0388d0   \n",
       "2  2022-03-01 09:00:00  01ff0803-ae73-4234-971d-5713c97b7f4b   \n",
       "3  2022-03-01 09:00:00  0363eb21-8c74-47e1-a216-c37e565e5ceb   \n",
       "4  2022-03-01 09:00:00  03f0b20e-3b5b-444f-bc39-cdfa2523d4bc   \n",
       "\n",
       "   estimated_stock_pct  quantity  temperature  \n",
       "0                 0.89       3.0     -0.02885  \n",
       "1                 0.14       3.0     -0.02885  \n",
       "2                 0.67       NaN     -0.02885  \n",
       "3                 0.82       NaN     -0.02885  \n",
       "4                 0.05       NaN     -0.02885  "
      ]
     },
     "execution_count": 23,
     "metadata": {},
     "output_type": "execute_result"
    }
   ],
   "source": [
    "merged = merged.merge(temperature, on = ['timestamp'], how = 'left')\n",
    "merged.head()"
   ]
  },
  {
   "cell_type": "code",
   "execution_count": 24,
   "id": "27c01ae7-ccf4-4c81-ab72-ad63013bb480",
   "metadata": {},
   "outputs": [
    {
     "name": "stdout",
     "output_type": "stream",
     "text": [
      "<class 'pandas.core.frame.DataFrame'>\n",
      "Int64Index: 10845 entries, 0 to 10844\n",
      "Data columns (total 5 columns):\n",
      " #   Column               Non-Null Count  Dtype  \n",
      "---  ------               --------------  -----  \n",
      " 0   timestamp            10845 non-null  object \n",
      " 1   product_id           10845 non-null  object \n",
      " 2   estimated_stock_pct  10845 non-null  float64\n",
      " 3   quantity             3067 non-null   float64\n",
      " 4   temperature          10845 non-null  float64\n",
      "dtypes: float64(3), object(2)\n",
      "memory usage: 508.4+ KB\n"
     ]
    }
   ],
   "source": [
    "merged.info()"
   ]
  },
  {
   "cell_type": "markdown",
   "id": "b6ff2289-5b0c-4b21-9127-71d39dc4b5dd",
   "metadata": {},
   "source": [
    "- Before applying machine learning techniques, we need to deal with the null values. Here the column 'quantity' has null values. \n",
    "- If quantity is null, it means that the product was not sold. Hence, in such cases, we can fill the null values with 0."
   ]
  },
  {
   "cell_type": "code",
   "execution_count": 25,
   "id": "1282a5e4-5e90-4819-b5ee-30e94222db0a",
   "metadata": {},
   "outputs": [],
   "source": [
    "merged['quantity'] = merged['quantity'] .fillna(0) # filling the null values with 0\n"
   ]
  },
  {
   "cell_type": "code",
   "execution_count": 26,
   "id": "ba143b69-5355-45fd-94b6-ef66e00fdf4c",
   "metadata": {},
   "outputs": [
    {
     "name": "stdout",
     "output_type": "stream",
     "text": [
      "<class 'pandas.core.frame.DataFrame'>\n",
      "Int64Index: 10845 entries, 0 to 10844\n",
      "Data columns (total 5 columns):\n",
      " #   Column               Non-Null Count  Dtype  \n",
      "---  ------               --------------  -----  \n",
      " 0   timestamp            10845 non-null  object \n",
      " 1   product_id           10845 non-null  object \n",
      " 2   estimated_stock_pct  10845 non-null  float64\n",
      " 3   quantity             10845 non-null  float64\n",
      " 4   temperature          10845 non-null  float64\n",
      "dtypes: float64(3), object(2)\n",
      "memory usage: 508.4+ KB\n"
     ]
    }
   ],
   "source": [
    "merged.info()"
   ]
  },
  {
   "cell_type": "code",
   "execution_count": 27,
   "id": "8c3710ee-7284-49bd-bba7-06b483676515",
   "metadata": {},
   "outputs": [
    {
     "data": {
      "text/html": [
       "<div>\n",
       "<style scoped>\n",
       "    .dataframe tbody tr th:only-of-type {\n",
       "        vertical-align: middle;\n",
       "    }\n",
       "\n",
       "    .dataframe tbody tr th {\n",
       "        vertical-align: top;\n",
       "    }\n",
       "\n",
       "    .dataframe thead th {\n",
       "        text-align: right;\n",
       "    }\n",
       "</style>\n",
       "<table border=\"1\" class=\"dataframe\">\n",
       "  <thead>\n",
       "    <tr style=\"text-align: right;\">\n",
       "      <th></th>\n",
       "      <th>transaction_id</th>\n",
       "      <th>timestamp</th>\n",
       "      <th>product_id</th>\n",
       "      <th>category</th>\n",
       "      <th>customer_type</th>\n",
       "      <th>unit_price</th>\n",
       "      <th>quantity</th>\n",
       "      <th>total</th>\n",
       "      <th>payment_type</th>\n",
       "    </tr>\n",
       "  </thead>\n",
       "  <tbody>\n",
       "    <tr>\n",
       "      <th>0</th>\n",
       "      <td>a1c82654-c52c-45b3-8ce8-4c2a1efe63ed</td>\n",
       "      <td>2022-03-02 09:00:00</td>\n",
       "      <td>3bc6c1ea-0198-46de-9ffd-514ae3338713</td>\n",
       "      <td>fruit</td>\n",
       "      <td>gold</td>\n",
       "      <td>3.99</td>\n",
       "      <td>2</td>\n",
       "      <td>7.98</td>\n",
       "      <td>e-wallet</td>\n",
       "    </tr>\n",
       "    <tr>\n",
       "      <th>1</th>\n",
       "      <td>931ad550-09e8-4da6-beaa-8c9d17be9c60</td>\n",
       "      <td>2022-03-06 10:00:00</td>\n",
       "      <td>ad81b46c-bf38-41cf-9b54-5fe7f5eba93e</td>\n",
       "      <td>fruit</td>\n",
       "      <td>standard</td>\n",
       "      <td>3.99</td>\n",
       "      <td>1</td>\n",
       "      <td>3.99</td>\n",
       "      <td>e-wallet</td>\n",
       "    </tr>\n",
       "  </tbody>\n",
       "</table>\n",
       "</div>"
      ],
      "text/plain": [
       "                         transaction_id            timestamp  \\\n",
       "0  a1c82654-c52c-45b3-8ce8-4c2a1efe63ed  2022-03-02 09:00:00   \n",
       "1  931ad550-09e8-4da6-beaa-8c9d17be9c60  2022-03-06 10:00:00   \n",
       "\n",
       "                             product_id category customer_type  unit_price  \\\n",
       "0  3bc6c1ea-0198-46de-9ffd-514ae3338713    fruit          gold        3.99   \n",
       "1  ad81b46c-bf38-41cf-9b54-5fe7f5eba93e    fruit      standard        3.99   \n",
       "\n",
       "   quantity  total payment_type  \n",
       "0         2   7.98     e-wallet  \n",
       "1         1   3.99     e-wallet  "
      ]
     },
     "execution_count": 27,
     "metadata": {},
     "output_type": "execute_result"
    }
   ],
   "source": [
    "data['sales'].head(2)"
   ]
  },
  {
   "cell_type": "markdown",
   "id": "a979104d-cc3d-4ab7-b8d0-c4e905c8eff9",
   "metadata": {},
   "source": [
    "- Category and unit_price columns of sales dataframe seems to be useful features. So we can add them to our merged dataframe.\n",
    "- Since we have some categories with the same product id purchased by different customers, we need to remove the duplicates, as we have already calculated the mean and sum of quantities for those categories."
   ]
  },
  {
   "cell_type": "code",
   "execution_count": 28,
   "id": "61ae2d4b-edf9-4ada-8c5c-631bcca03669",
   "metadata": {},
   "outputs": [],
   "source": [
    "product_categories = data['sales'][['product_id', 'category']]\n",
    "product_categories = product_categories.drop_duplicates()\n",
    "\n",
    "product_price = data['sales'][['product_id', 'unit_price']]\n",
    "product_price = product_price.drop_duplicates()"
   ]
  },
  {
   "cell_type": "code",
   "execution_count": 29,
   "id": "fbb229c1-07ca-4f7c-aae4-e329cfa49367",
   "metadata": {},
   "outputs": [],
   "source": [
    "merged = merged.merge(product_categories, on = 'product_id',how = 'left')"
   ]
  },
  {
   "cell_type": "code",
   "execution_count": 30,
   "id": "61d74db5-f936-4d1e-b09e-4c1003769622",
   "metadata": {},
   "outputs": [],
   "source": [
    "merged = merged.merge(product_price, on = 'product_id',how = 'left')"
   ]
  },
  {
   "cell_type": "code",
   "execution_count": 31,
   "id": "49d2055d-e4c9-47d2-b193-9b7aed7d0c8e",
   "metadata": {},
   "outputs": [
    {
     "data": {
      "text/html": [
       "<div>\n",
       "<style scoped>\n",
       "    .dataframe tbody tr th:only-of-type {\n",
       "        vertical-align: middle;\n",
       "    }\n",
       "\n",
       "    .dataframe tbody tr th {\n",
       "        vertical-align: top;\n",
       "    }\n",
       "\n",
       "    .dataframe thead th {\n",
       "        text-align: right;\n",
       "    }\n",
       "</style>\n",
       "<table border=\"1\" class=\"dataframe\">\n",
       "  <thead>\n",
       "    <tr style=\"text-align: right;\">\n",
       "      <th></th>\n",
       "      <th>timestamp</th>\n",
       "      <th>product_id</th>\n",
       "      <th>estimated_stock_pct</th>\n",
       "      <th>quantity</th>\n",
       "      <th>temperature</th>\n",
       "      <th>category</th>\n",
       "      <th>unit_price</th>\n",
       "    </tr>\n",
       "  </thead>\n",
       "  <tbody>\n",
       "    <tr>\n",
       "      <th>0</th>\n",
       "      <td>2022-03-01 09:00:00</td>\n",
       "      <td>00e120bb-89d6-4df5-bc48-a051148e3d03</td>\n",
       "      <td>0.89</td>\n",
       "      <td>3.0</td>\n",
       "      <td>-0.02885</td>\n",
       "      <td>kitchen</td>\n",
       "      <td>11.19</td>\n",
       "    </tr>\n",
       "    <tr>\n",
       "      <th>1</th>\n",
       "      <td>2022-03-01 09:00:00</td>\n",
       "      <td>01f3cdd9-8e9e-4dff-9b5c-69698a0388d0</td>\n",
       "      <td>0.14</td>\n",
       "      <td>3.0</td>\n",
       "      <td>-0.02885</td>\n",
       "      <td>vegetables</td>\n",
       "      <td>1.49</td>\n",
       "    </tr>\n",
       "  </tbody>\n",
       "</table>\n",
       "</div>"
      ],
      "text/plain": [
       "             timestamp                            product_id  \\\n",
       "0  2022-03-01 09:00:00  00e120bb-89d6-4df5-bc48-a051148e3d03   \n",
       "1  2022-03-01 09:00:00  01f3cdd9-8e9e-4dff-9b5c-69698a0388d0   \n",
       "\n",
       "   estimated_stock_pct  quantity  temperature    category  unit_price  \n",
       "0                 0.89       3.0     -0.02885     kitchen       11.19  \n",
       "1                 0.14       3.0     -0.02885  vegetables        1.49  "
      ]
     },
     "execution_count": 31,
     "metadata": {},
     "output_type": "execute_result"
    }
   ],
   "source": [
    "merged.head(2)"
   ]
  },
  {
   "cell_type": "code",
   "execution_count": 32,
   "id": "4e0bedcd-2d47-437c-a87a-8ed8a856666d",
   "metadata": {},
   "outputs": [
    {
     "name": "stdout",
     "output_type": "stream",
     "text": [
      "<class 'pandas.core.frame.DataFrame'>\n",
      "Int64Index: 10845 entries, 0 to 10844\n",
      "Data columns (total 7 columns):\n",
      " #   Column               Non-Null Count  Dtype  \n",
      "---  ------               --------------  -----  \n",
      " 0   timestamp            10845 non-null  object \n",
      " 1   product_id           10845 non-null  object \n",
      " 2   estimated_stock_pct  10845 non-null  float64\n",
      " 3   quantity             10845 non-null  float64\n",
      " 4   temperature          10845 non-null  float64\n",
      " 5   category             10845 non-null  object \n",
      " 6   unit_price           10845 non-null  float64\n",
      "dtypes: float64(4), object(3)\n",
      "memory usage: 677.8+ KB\n"
     ]
    }
   ],
   "source": [
    "merged.info()"
   ]
  },
  {
   "cell_type": "markdown",
   "id": "9f568709-e353-4a32-a702-3e2115afa94d",
   "metadata": {},
   "source": [
    "# Feature Creation: \n",
    "Deriving new variables from existing variables is known as feature creation. It helps to unleash the hidden information of a data set. Here transaction dates, may not have a direct correlation with the number of transactions, but if we look at the day of the week, day of the_month, it may have a higher correlation. In this case, the information about the day of the week/month is hidden. We need to extract it to make the model accuracy better."
   ]
  },
  {
   "cell_type": "code",
   "execution_count": 33,
   "id": "1a6062eb-63bd-45d3-a5c8-2e24ecbeb0cb",
   "metadata": {
    "tags": []
   },
   "outputs": [
    {
     "data": {
      "text/html": [
       "<div>\n",
       "<style scoped>\n",
       "    .dataframe tbody tr th:only-of-type {\n",
       "        vertical-align: middle;\n",
       "    }\n",
       "\n",
       "    .dataframe tbody tr th {\n",
       "        vertical-align: top;\n",
       "    }\n",
       "\n",
       "    .dataframe thead th {\n",
       "        text-align: right;\n",
       "    }\n",
       "</style>\n",
       "<table border=\"1\" class=\"dataframe\">\n",
       "  <thead>\n",
       "    <tr style=\"text-align: right;\">\n",
       "      <th></th>\n",
       "      <th>product_id</th>\n",
       "      <th>estimated_stock_pct</th>\n",
       "      <th>quantity</th>\n",
       "      <th>temperature</th>\n",
       "      <th>category</th>\n",
       "      <th>unit_price</th>\n",
       "      <th>timestamp_day_of_month</th>\n",
       "      <th>timestamp_day_of_week</th>\n",
       "      <th>timestamp_hour</th>\n",
       "    </tr>\n",
       "  </thead>\n",
       "  <tbody>\n",
       "    <tr>\n",
       "      <th>0</th>\n",
       "      <td>00e120bb-89d6-4df5-bc48-a051148e3d03</td>\n",
       "      <td>0.89</td>\n",
       "      <td>3.0</td>\n",
       "      <td>-0.02885</td>\n",
       "      <td>kitchen</td>\n",
       "      <td>11.19</td>\n",
       "      <td>1</td>\n",
       "      <td>1</td>\n",
       "      <td>9</td>\n",
       "    </tr>\n",
       "    <tr>\n",
       "      <th>1</th>\n",
       "      <td>01f3cdd9-8e9e-4dff-9b5c-69698a0388d0</td>\n",
       "      <td>0.14</td>\n",
       "      <td>3.0</td>\n",
       "      <td>-0.02885</td>\n",
       "      <td>vegetables</td>\n",
       "      <td>1.49</td>\n",
       "      <td>1</td>\n",
       "      <td>1</td>\n",
       "      <td>9</td>\n",
       "    </tr>\n",
       "    <tr>\n",
       "      <th>2</th>\n",
       "      <td>01ff0803-ae73-4234-971d-5713c97b7f4b</td>\n",
       "      <td>0.67</td>\n",
       "      <td>0.0</td>\n",
       "      <td>-0.02885</td>\n",
       "      <td>baby products</td>\n",
       "      <td>14.19</td>\n",
       "      <td>1</td>\n",
       "      <td>1</td>\n",
       "      <td>9</td>\n",
       "    </tr>\n",
       "    <tr>\n",
       "      <th>3</th>\n",
       "      <td>0363eb21-8c74-47e1-a216-c37e565e5ceb</td>\n",
       "      <td>0.82</td>\n",
       "      <td>0.0</td>\n",
       "      <td>-0.02885</td>\n",
       "      <td>beverages</td>\n",
       "      <td>20.19</td>\n",
       "      <td>1</td>\n",
       "      <td>1</td>\n",
       "      <td>9</td>\n",
       "    </tr>\n",
       "    <tr>\n",
       "      <th>4</th>\n",
       "      <td>03f0b20e-3b5b-444f-bc39-cdfa2523d4bc</td>\n",
       "      <td>0.05</td>\n",
       "      <td>0.0</td>\n",
       "      <td>-0.02885</td>\n",
       "      <td>pets</td>\n",
       "      <td>8.19</td>\n",
       "      <td>1</td>\n",
       "      <td>1</td>\n",
       "      <td>9</td>\n",
       "    </tr>\n",
       "  </tbody>\n",
       "</table>\n",
       "</div>"
      ],
      "text/plain": [
       "                             product_id  estimated_stock_pct  quantity  \\\n",
       "0  00e120bb-89d6-4df5-bc48-a051148e3d03                 0.89       3.0   \n",
       "1  01f3cdd9-8e9e-4dff-9b5c-69698a0388d0                 0.14       3.0   \n",
       "2  01ff0803-ae73-4234-971d-5713c97b7f4b                 0.67       0.0   \n",
       "3  0363eb21-8c74-47e1-a216-c37e565e5ceb                 0.82       0.0   \n",
       "4  03f0b20e-3b5b-444f-bc39-cdfa2523d4bc                 0.05       0.0   \n",
       "\n",
       "   temperature       category  unit_price  timestamp_day_of_month  \\\n",
       "0     -0.02885        kitchen       11.19                       1   \n",
       "1     -0.02885     vegetables        1.49                       1   \n",
       "2     -0.02885  baby products       14.19                       1   \n",
       "3     -0.02885      beverages       20.19                       1   \n",
       "4     -0.02885           pets        8.19                       1   \n",
       "\n",
       "   timestamp_day_of_week  timestamp_hour  \n",
       "0                      1               9  \n",
       "1                      1               9  \n",
       "2                      1               9  \n",
       "3                      1               9  \n",
       "4                      1               9  "
      ]
     },
     "execution_count": 33,
     "metadata": {},
     "output_type": "execute_result"
    }
   ],
   "source": [
    "merged['timestamp'] = pd.to_datetime(merged['timestamp'], errors = 'coerce')  #to convert the timestamp column to timestamp format\n",
    "\n",
    "merged['timestamp_day_of_month'] = merged['timestamp'].dt.day # to extract info about day of the month\n",
    "merged['timestamp_day_of_week'] = merged['timestamp'].dt.dayofweek  # to extract info about day of the week\n",
    "merged['timestamp_hour'] = merged['timestamp'].dt.hour  # to extract info about only the hour\n",
    "merged.drop(columns=['timestamp'], inplace=True)\n",
    "merged.head()\n"
   ]
  },
  {
   "cell_type": "code",
   "execution_count": 34,
   "id": "440ba75d-3521-43fb-9b90-ed19805d5e8b",
   "metadata": {},
   "outputs": [
    {
     "name": "stdout",
     "output_type": "stream",
     "text": [
      "<class 'pandas.core.frame.DataFrame'>\n",
      "Int64Index: 10845 entries, 0 to 10844\n",
      "Data columns (total 9 columns):\n",
      " #   Column                  Non-Null Count  Dtype  \n",
      "---  ------                  --------------  -----  \n",
      " 0   product_id              10845 non-null  object \n",
      " 1   estimated_stock_pct     10845 non-null  float64\n",
      " 2   quantity                10845 non-null  float64\n",
      " 3   temperature             10845 non-null  float64\n",
      " 4   category                10845 non-null  object \n",
      " 5   unit_price              10845 non-null  float64\n",
      " 6   timestamp_day_of_month  10845 non-null  int64  \n",
      " 7   timestamp_day_of_week   10845 non-null  int64  \n",
      " 8   timestamp_hour          10845 non-null  int64  \n",
      "dtypes: float64(4), int64(3), object(2)\n",
      "memory usage: 847.3+ KB\n"
     ]
    }
   ],
   "source": [
    "merged.info()"
   ]
  },
  {
   "cell_type": "markdown",
   "id": "3a5d23cb-3881-4a82-b9e1-878c13635277",
   "metadata": {},
   "source": [
    "Machine learning can be applied only after converting all the categorical types to numerical types."
   ]
  },
  {
   "cell_type": "code",
   "execution_count": 35,
   "id": "eab2a14f-520b-4d5a-8d3a-85676591a16c",
   "metadata": {},
   "outputs": [
    {
     "data": {
      "text/html": [
       "<div>\n",
       "<style scoped>\n",
       "    .dataframe tbody tr th:only-of-type {\n",
       "        vertical-align: middle;\n",
       "    }\n",
       "\n",
       "    .dataframe tbody tr th {\n",
       "        vertical-align: top;\n",
       "    }\n",
       "\n",
       "    .dataframe thead th {\n",
       "        text-align: right;\n",
       "    }\n",
       "</style>\n",
       "<table border=\"1\" class=\"dataframe\">\n",
       "  <thead>\n",
       "    <tr style=\"text-align: right;\">\n",
       "      <th></th>\n",
       "      <th>product_id</th>\n",
       "      <th>estimated_stock_pct</th>\n",
       "      <th>quantity</th>\n",
       "      <th>temperature</th>\n",
       "      <th>unit_price</th>\n",
       "      <th>timestamp_day_of_month</th>\n",
       "      <th>timestamp_day_of_week</th>\n",
       "      <th>timestamp_hour</th>\n",
       "      <th>category_baby products</th>\n",
       "      <th>category_baked goods</th>\n",
       "      <th>...</th>\n",
       "      <th>category_meat</th>\n",
       "      <th>category_medicine</th>\n",
       "      <th>category_packaged foods</th>\n",
       "      <th>category_personal care</th>\n",
       "      <th>category_pets</th>\n",
       "      <th>category_refrigerated items</th>\n",
       "      <th>category_seafood</th>\n",
       "      <th>category_snacks</th>\n",
       "      <th>category_spices and herbs</th>\n",
       "      <th>category_vegetables</th>\n",
       "    </tr>\n",
       "  </thead>\n",
       "  <tbody>\n",
       "    <tr>\n",
       "      <th>0</th>\n",
       "      <td>00e120bb-89d6-4df5-bc48-a051148e3d03</td>\n",
       "      <td>0.89</td>\n",
       "      <td>3.0</td>\n",
       "      <td>-0.02885</td>\n",
       "      <td>11.19</td>\n",
       "      <td>1</td>\n",
       "      <td>1</td>\n",
       "      <td>9</td>\n",
       "      <td>0</td>\n",
       "      <td>0</td>\n",
       "      <td>...</td>\n",
       "      <td>0</td>\n",
       "      <td>0</td>\n",
       "      <td>0</td>\n",
       "      <td>0</td>\n",
       "      <td>0</td>\n",
       "      <td>0</td>\n",
       "      <td>0</td>\n",
       "      <td>0</td>\n",
       "      <td>0</td>\n",
       "      <td>0</td>\n",
       "    </tr>\n",
       "    <tr>\n",
       "      <th>1</th>\n",
       "      <td>01f3cdd9-8e9e-4dff-9b5c-69698a0388d0</td>\n",
       "      <td>0.14</td>\n",
       "      <td>3.0</td>\n",
       "      <td>-0.02885</td>\n",
       "      <td>1.49</td>\n",
       "      <td>1</td>\n",
       "      <td>1</td>\n",
       "      <td>9</td>\n",
       "      <td>0</td>\n",
       "      <td>0</td>\n",
       "      <td>...</td>\n",
       "      <td>0</td>\n",
       "      <td>0</td>\n",
       "      <td>0</td>\n",
       "      <td>0</td>\n",
       "      <td>0</td>\n",
       "      <td>0</td>\n",
       "      <td>0</td>\n",
       "      <td>0</td>\n",
       "      <td>0</td>\n",
       "      <td>1</td>\n",
       "    </tr>\n",
       "    <tr>\n",
       "      <th>2</th>\n",
       "      <td>01ff0803-ae73-4234-971d-5713c97b7f4b</td>\n",
       "      <td>0.67</td>\n",
       "      <td>0.0</td>\n",
       "      <td>-0.02885</td>\n",
       "      <td>14.19</td>\n",
       "      <td>1</td>\n",
       "      <td>1</td>\n",
       "      <td>9</td>\n",
       "      <td>1</td>\n",
       "      <td>0</td>\n",
       "      <td>...</td>\n",
       "      <td>0</td>\n",
       "      <td>0</td>\n",
       "      <td>0</td>\n",
       "      <td>0</td>\n",
       "      <td>0</td>\n",
       "      <td>0</td>\n",
       "      <td>0</td>\n",
       "      <td>0</td>\n",
       "      <td>0</td>\n",
       "      <td>0</td>\n",
       "    </tr>\n",
       "    <tr>\n",
       "      <th>3</th>\n",
       "      <td>0363eb21-8c74-47e1-a216-c37e565e5ceb</td>\n",
       "      <td>0.82</td>\n",
       "      <td>0.0</td>\n",
       "      <td>-0.02885</td>\n",
       "      <td>20.19</td>\n",
       "      <td>1</td>\n",
       "      <td>1</td>\n",
       "      <td>9</td>\n",
       "      <td>0</td>\n",
       "      <td>0</td>\n",
       "      <td>...</td>\n",
       "      <td>0</td>\n",
       "      <td>0</td>\n",
       "      <td>0</td>\n",
       "      <td>0</td>\n",
       "      <td>0</td>\n",
       "      <td>0</td>\n",
       "      <td>0</td>\n",
       "      <td>0</td>\n",
       "      <td>0</td>\n",
       "      <td>0</td>\n",
       "    </tr>\n",
       "    <tr>\n",
       "      <th>4</th>\n",
       "      <td>03f0b20e-3b5b-444f-bc39-cdfa2523d4bc</td>\n",
       "      <td>0.05</td>\n",
       "      <td>0.0</td>\n",
       "      <td>-0.02885</td>\n",
       "      <td>8.19</td>\n",
       "      <td>1</td>\n",
       "      <td>1</td>\n",
       "      <td>9</td>\n",
       "      <td>0</td>\n",
       "      <td>0</td>\n",
       "      <td>...</td>\n",
       "      <td>0</td>\n",
       "      <td>0</td>\n",
       "      <td>0</td>\n",
       "      <td>0</td>\n",
       "      <td>1</td>\n",
       "      <td>0</td>\n",
       "      <td>0</td>\n",
       "      <td>0</td>\n",
       "      <td>0</td>\n",
       "      <td>0</td>\n",
       "    </tr>\n",
       "  </tbody>\n",
       "</table>\n",
       "<p>5 rows × 30 columns</p>\n",
       "</div>"
      ],
      "text/plain": [
       "                             product_id  estimated_stock_pct  quantity  \\\n",
       "0  00e120bb-89d6-4df5-bc48-a051148e3d03                 0.89       3.0   \n",
       "1  01f3cdd9-8e9e-4dff-9b5c-69698a0388d0                 0.14       3.0   \n",
       "2  01ff0803-ae73-4234-971d-5713c97b7f4b                 0.67       0.0   \n",
       "3  0363eb21-8c74-47e1-a216-c37e565e5ceb                 0.82       0.0   \n",
       "4  03f0b20e-3b5b-444f-bc39-cdfa2523d4bc                 0.05       0.0   \n",
       "\n",
       "   temperature  unit_price  timestamp_day_of_month  timestamp_day_of_week  \\\n",
       "0     -0.02885       11.19                       1                      1   \n",
       "1     -0.02885        1.49                       1                      1   \n",
       "2     -0.02885       14.19                       1                      1   \n",
       "3     -0.02885       20.19                       1                      1   \n",
       "4     -0.02885        8.19                       1                      1   \n",
       "\n",
       "   timestamp_hour  category_baby products  category_baked goods  ...  \\\n",
       "0               9                       0                     0  ...   \n",
       "1               9                       0                     0  ...   \n",
       "2               9                       1                     0  ...   \n",
       "3               9                       0                     0  ...   \n",
       "4               9                       0                     0  ...   \n",
       "\n",
       "   category_meat  category_medicine  category_packaged foods  \\\n",
       "0              0                  0                        0   \n",
       "1              0                  0                        0   \n",
       "2              0                  0                        0   \n",
       "3              0                  0                        0   \n",
       "4              0                  0                        0   \n",
       "\n",
       "   category_personal care  category_pets  category_refrigerated items  \\\n",
       "0                       0              0                            0   \n",
       "1                       0              0                            0   \n",
       "2                       0              0                            0   \n",
       "3                       0              0                            0   \n",
       "4                       0              1                            0   \n",
       "\n",
       "   category_seafood  category_snacks  category_spices and herbs  \\\n",
       "0                 0                0                          0   \n",
       "1                 0                0                          0   \n",
       "2                 0                0                          0   \n",
       "3                 0                0                          0   \n",
       "4                 0                0                          0   \n",
       "\n",
       "   category_vegetables  \n",
       "0                    0  \n",
       "1                    1  \n",
       "2                    0  \n",
       "3                    0  \n",
       "4                    0  \n",
       "\n",
       "[5 rows x 30 columns]"
      ]
     },
     "execution_count": 35,
     "metadata": {},
     "output_type": "execute_result"
    }
   ],
   "source": [
    "# Converting categories column.\n",
    "merged = pd.get_dummies(merged, columns=['category'])\n",
    "merged.head()"
   ]
  },
  {
   "cell_type": "code",
   "execution_count": 36,
   "id": "3559965a-846e-4db1-8d70-b8a081f52ed3",
   "metadata": {},
   "outputs": [
    {
     "name": "stdout",
     "output_type": "stream",
     "text": [
      "<class 'pandas.core.frame.DataFrame'>\n",
      "Int64Index: 10845 entries, 0 to 10844\n",
      "Data columns (total 30 columns):\n",
      " #   Column                          Non-Null Count  Dtype  \n",
      "---  ------                          --------------  -----  \n",
      " 0   product_id                      10845 non-null  object \n",
      " 1   estimated_stock_pct             10845 non-null  float64\n",
      " 2   quantity                        10845 non-null  float64\n",
      " 3   temperature                     10845 non-null  float64\n",
      " 4   unit_price                      10845 non-null  float64\n",
      " 5   timestamp_day_of_month          10845 non-null  int64  \n",
      " 6   timestamp_day_of_week           10845 non-null  int64  \n",
      " 7   timestamp_hour                  10845 non-null  int64  \n",
      " 8   category_baby products          10845 non-null  uint8  \n",
      " 9   category_baked goods            10845 non-null  uint8  \n",
      " 10  category_baking                 10845 non-null  uint8  \n",
      " 11  category_beverages              10845 non-null  uint8  \n",
      " 12  category_canned foods           10845 non-null  uint8  \n",
      " 13  category_cheese                 10845 non-null  uint8  \n",
      " 14  category_cleaning products      10845 non-null  uint8  \n",
      " 15  category_condiments and sauces  10845 non-null  uint8  \n",
      " 16  category_dairy                  10845 non-null  uint8  \n",
      " 17  category_frozen                 10845 non-null  uint8  \n",
      " 18  category_fruit                  10845 non-null  uint8  \n",
      " 19  category_kitchen                10845 non-null  uint8  \n",
      " 20  category_meat                   10845 non-null  uint8  \n",
      " 21  category_medicine               10845 non-null  uint8  \n",
      " 22  category_packaged foods         10845 non-null  uint8  \n",
      " 23  category_personal care          10845 non-null  uint8  \n",
      " 24  category_pets                   10845 non-null  uint8  \n",
      " 25  category_refrigerated items     10845 non-null  uint8  \n",
      " 26  category_seafood                10845 non-null  uint8  \n",
      " 27  category_snacks                 10845 non-null  uint8  \n",
      " 28  category_spices and herbs       10845 non-null  uint8  \n",
      " 29  category_vegetables             10845 non-null  uint8  \n",
      "dtypes: float64(4), int64(3), object(1), uint8(22)\n",
      "memory usage: 995.5+ KB\n"
     ]
    }
   ],
   "source": [
    "merged.info()"
   ]
  },
  {
   "cell_type": "code",
   "execution_count": 37,
   "id": "ec04ded1-3dc5-4d44-bbc2-7ac3c68319a8",
   "metadata": {},
   "outputs": [],
   "source": [
    "# Now only product id is in object type, and anyways it is not an important feature now,\n",
    "# So lets drop it.\n",
    "merged.drop(columns = 'product_id', inplace = True )"
   ]
  },
  {
   "cell_type": "code",
   "execution_count": 38,
   "id": "d4a1f097-f3a7-4fee-99c6-abe2b5907e25",
   "metadata": {},
   "outputs": [
    {
     "data": {
      "text/html": [
       "<div>\n",
       "<style scoped>\n",
       "    .dataframe tbody tr th:only-of-type {\n",
       "        vertical-align: middle;\n",
       "    }\n",
       "\n",
       "    .dataframe tbody tr th {\n",
       "        vertical-align: top;\n",
       "    }\n",
       "\n",
       "    .dataframe thead th {\n",
       "        text-align: right;\n",
       "    }\n",
       "</style>\n",
       "<table border=\"1\" class=\"dataframe\">\n",
       "  <thead>\n",
       "    <tr style=\"text-align: right;\">\n",
       "      <th></th>\n",
       "      <th>estimated_stock_pct</th>\n",
       "      <th>quantity</th>\n",
       "      <th>temperature</th>\n",
       "      <th>unit_price</th>\n",
       "      <th>timestamp_day_of_month</th>\n",
       "      <th>timestamp_day_of_week</th>\n",
       "      <th>timestamp_hour</th>\n",
       "      <th>category_baby products</th>\n",
       "      <th>category_baked goods</th>\n",
       "      <th>category_baking</th>\n",
       "      <th>...</th>\n",
       "      <th>category_meat</th>\n",
       "      <th>category_medicine</th>\n",
       "      <th>category_packaged foods</th>\n",
       "      <th>category_personal care</th>\n",
       "      <th>category_pets</th>\n",
       "      <th>category_refrigerated items</th>\n",
       "      <th>category_seafood</th>\n",
       "      <th>category_snacks</th>\n",
       "      <th>category_spices and herbs</th>\n",
       "      <th>category_vegetables</th>\n",
       "    </tr>\n",
       "  </thead>\n",
       "  <tbody>\n",
       "    <tr>\n",
       "      <th>0</th>\n",
       "      <td>0.89</td>\n",
       "      <td>3.0</td>\n",
       "      <td>-0.028850</td>\n",
       "      <td>11.19</td>\n",
       "      <td>1</td>\n",
       "      <td>1</td>\n",
       "      <td>9</td>\n",
       "      <td>0</td>\n",
       "      <td>0</td>\n",
       "      <td>0</td>\n",
       "      <td>...</td>\n",
       "      <td>0</td>\n",
       "      <td>0</td>\n",
       "      <td>0</td>\n",
       "      <td>0</td>\n",
       "      <td>0</td>\n",
       "      <td>0</td>\n",
       "      <td>0</td>\n",
       "      <td>0</td>\n",
       "      <td>0</td>\n",
       "      <td>0</td>\n",
       "    </tr>\n",
       "    <tr>\n",
       "      <th>1</th>\n",
       "      <td>0.14</td>\n",
       "      <td>3.0</td>\n",
       "      <td>-0.028850</td>\n",
       "      <td>1.49</td>\n",
       "      <td>1</td>\n",
       "      <td>1</td>\n",
       "      <td>9</td>\n",
       "      <td>0</td>\n",
       "      <td>0</td>\n",
       "      <td>0</td>\n",
       "      <td>...</td>\n",
       "      <td>0</td>\n",
       "      <td>0</td>\n",
       "      <td>0</td>\n",
       "      <td>0</td>\n",
       "      <td>0</td>\n",
       "      <td>0</td>\n",
       "      <td>0</td>\n",
       "      <td>0</td>\n",
       "      <td>0</td>\n",
       "      <td>1</td>\n",
       "    </tr>\n",
       "    <tr>\n",
       "      <th>2</th>\n",
       "      <td>0.67</td>\n",
       "      <td>0.0</td>\n",
       "      <td>-0.028850</td>\n",
       "      <td>14.19</td>\n",
       "      <td>1</td>\n",
       "      <td>1</td>\n",
       "      <td>9</td>\n",
       "      <td>1</td>\n",
       "      <td>0</td>\n",
       "      <td>0</td>\n",
       "      <td>...</td>\n",
       "      <td>0</td>\n",
       "      <td>0</td>\n",
       "      <td>0</td>\n",
       "      <td>0</td>\n",
       "      <td>0</td>\n",
       "      <td>0</td>\n",
       "      <td>0</td>\n",
       "      <td>0</td>\n",
       "      <td>0</td>\n",
       "      <td>0</td>\n",
       "    </tr>\n",
       "    <tr>\n",
       "      <th>3</th>\n",
       "      <td>0.82</td>\n",
       "      <td>0.0</td>\n",
       "      <td>-0.028850</td>\n",
       "      <td>20.19</td>\n",
       "      <td>1</td>\n",
       "      <td>1</td>\n",
       "      <td>9</td>\n",
       "      <td>0</td>\n",
       "      <td>0</td>\n",
       "      <td>0</td>\n",
       "      <td>...</td>\n",
       "      <td>0</td>\n",
       "      <td>0</td>\n",
       "      <td>0</td>\n",
       "      <td>0</td>\n",
       "      <td>0</td>\n",
       "      <td>0</td>\n",
       "      <td>0</td>\n",
       "      <td>0</td>\n",
       "      <td>0</td>\n",
       "      <td>0</td>\n",
       "    </tr>\n",
       "    <tr>\n",
       "      <th>4</th>\n",
       "      <td>0.05</td>\n",
       "      <td>0.0</td>\n",
       "      <td>-0.028850</td>\n",
       "      <td>8.19</td>\n",
       "      <td>1</td>\n",
       "      <td>1</td>\n",
       "      <td>9</td>\n",
       "      <td>0</td>\n",
       "      <td>0</td>\n",
       "      <td>0</td>\n",
       "      <td>...</td>\n",
       "      <td>0</td>\n",
       "      <td>0</td>\n",
       "      <td>0</td>\n",
       "      <td>0</td>\n",
       "      <td>1</td>\n",
       "      <td>0</td>\n",
       "      <td>0</td>\n",
       "      <td>0</td>\n",
       "      <td>0</td>\n",
       "      <td>0</td>\n",
       "    </tr>\n",
       "    <tr>\n",
       "      <th>...</th>\n",
       "      <td>...</td>\n",
       "      <td>...</td>\n",
       "      <td>...</td>\n",
       "      <td>...</td>\n",
       "      <td>...</td>\n",
       "      <td>...</td>\n",
       "      <td>...</td>\n",
       "      <td>...</td>\n",
       "      <td>...</td>\n",
       "      <td>...</td>\n",
       "      <td>...</td>\n",
       "      <td>...</td>\n",
       "      <td>...</td>\n",
       "      <td>...</td>\n",
       "      <td>...</td>\n",
       "      <td>...</td>\n",
       "      <td>...</td>\n",
       "      <td>...</td>\n",
       "      <td>...</td>\n",
       "      <td>...</td>\n",
       "      <td>...</td>\n",
       "    </tr>\n",
       "    <tr>\n",
       "      <th>10840</th>\n",
       "      <td>0.50</td>\n",
       "      <td>4.0</td>\n",
       "      <td>-0.165077</td>\n",
       "      <td>4.99</td>\n",
       "      <td>7</td>\n",
       "      <td>0</td>\n",
       "      <td>19</td>\n",
       "      <td>0</td>\n",
       "      <td>0</td>\n",
       "      <td>0</td>\n",
       "      <td>...</td>\n",
       "      <td>0</td>\n",
       "      <td>0</td>\n",
       "      <td>0</td>\n",
       "      <td>0</td>\n",
       "      <td>0</td>\n",
       "      <td>0</td>\n",
       "      <td>0</td>\n",
       "      <td>0</td>\n",
       "      <td>0</td>\n",
       "      <td>0</td>\n",
       "    </tr>\n",
       "    <tr>\n",
       "      <th>10841</th>\n",
       "      <td>0.26</td>\n",
       "      <td>0.0</td>\n",
       "      <td>-0.165077</td>\n",
       "      <td>19.99</td>\n",
       "      <td>7</td>\n",
       "      <td>0</td>\n",
       "      <td>19</td>\n",
       "      <td>0</td>\n",
       "      <td>0</td>\n",
       "      <td>0</td>\n",
       "      <td>...</td>\n",
       "      <td>1</td>\n",
       "      <td>0</td>\n",
       "      <td>0</td>\n",
       "      <td>0</td>\n",
       "      <td>0</td>\n",
       "      <td>0</td>\n",
       "      <td>0</td>\n",
       "      <td>0</td>\n",
       "      <td>0</td>\n",
       "      <td>0</td>\n",
       "    </tr>\n",
       "    <tr>\n",
       "      <th>10842</th>\n",
       "      <td>0.78</td>\n",
       "      <td>3.0</td>\n",
       "      <td>-0.165077</td>\n",
       "      <td>6.99</td>\n",
       "      <td>7</td>\n",
       "      <td>0</td>\n",
       "      <td>19</td>\n",
       "      <td>0</td>\n",
       "      <td>0</td>\n",
       "      <td>0</td>\n",
       "      <td>...</td>\n",
       "      <td>0</td>\n",
       "      <td>0</td>\n",
       "      <td>1</td>\n",
       "      <td>0</td>\n",
       "      <td>0</td>\n",
       "      <td>0</td>\n",
       "      <td>0</td>\n",
       "      <td>0</td>\n",
       "      <td>0</td>\n",
       "      <td>0</td>\n",
       "    </tr>\n",
       "    <tr>\n",
       "      <th>10843</th>\n",
       "      <td>0.92</td>\n",
       "      <td>3.0</td>\n",
       "      <td>-0.165077</td>\n",
       "      <td>14.99</td>\n",
       "      <td>7</td>\n",
       "      <td>0</td>\n",
       "      <td>19</td>\n",
       "      <td>0</td>\n",
       "      <td>0</td>\n",
       "      <td>0</td>\n",
       "      <td>...</td>\n",
       "      <td>1</td>\n",
       "      <td>0</td>\n",
       "      <td>0</td>\n",
       "      <td>0</td>\n",
       "      <td>0</td>\n",
       "      <td>0</td>\n",
       "      <td>0</td>\n",
       "      <td>0</td>\n",
       "      <td>0</td>\n",
       "      <td>0</td>\n",
       "    </tr>\n",
       "    <tr>\n",
       "      <th>10844</th>\n",
       "      <td>0.01</td>\n",
       "      <td>2.0</td>\n",
       "      <td>-0.165077</td>\n",
       "      <td>5.19</td>\n",
       "      <td>7</td>\n",
       "      <td>0</td>\n",
       "      <td>19</td>\n",
       "      <td>0</td>\n",
       "      <td>0</td>\n",
       "      <td>0</td>\n",
       "      <td>...</td>\n",
       "      <td>0</td>\n",
       "      <td>0</td>\n",
       "      <td>0</td>\n",
       "      <td>0</td>\n",
       "      <td>0</td>\n",
       "      <td>0</td>\n",
       "      <td>0</td>\n",
       "      <td>0</td>\n",
       "      <td>0</td>\n",
       "      <td>0</td>\n",
       "    </tr>\n",
       "  </tbody>\n",
       "</table>\n",
       "<p>10845 rows × 29 columns</p>\n",
       "</div>"
      ],
      "text/plain": [
       "       estimated_stock_pct  quantity  temperature  unit_price  \\\n",
       "0                     0.89       3.0    -0.028850       11.19   \n",
       "1                     0.14       3.0    -0.028850        1.49   \n",
       "2                     0.67       0.0    -0.028850       14.19   \n",
       "3                     0.82       0.0    -0.028850       20.19   \n",
       "4                     0.05       0.0    -0.028850        8.19   \n",
       "...                    ...       ...          ...         ...   \n",
       "10840                 0.50       4.0    -0.165077        4.99   \n",
       "10841                 0.26       0.0    -0.165077       19.99   \n",
       "10842                 0.78       3.0    -0.165077        6.99   \n",
       "10843                 0.92       3.0    -0.165077       14.99   \n",
       "10844                 0.01       2.0    -0.165077        5.19   \n",
       "\n",
       "       timestamp_day_of_month  timestamp_day_of_week  timestamp_hour  \\\n",
       "0                           1                      1               9   \n",
       "1                           1                      1               9   \n",
       "2                           1                      1               9   \n",
       "3                           1                      1               9   \n",
       "4                           1                      1               9   \n",
       "...                       ...                    ...             ...   \n",
       "10840                       7                      0              19   \n",
       "10841                       7                      0              19   \n",
       "10842                       7                      0              19   \n",
       "10843                       7                      0              19   \n",
       "10844                       7                      0              19   \n",
       "\n",
       "       category_baby products  category_baked goods  category_baking  ...  \\\n",
       "0                           0                     0                0  ...   \n",
       "1                           0                     0                0  ...   \n",
       "2                           1                     0                0  ...   \n",
       "3                           0                     0                0  ...   \n",
       "4                           0                     0                0  ...   \n",
       "...                       ...                   ...              ...  ...   \n",
       "10840                       0                     0                0  ...   \n",
       "10841                       0                     0                0  ...   \n",
       "10842                       0                     0                0  ...   \n",
       "10843                       0                     0                0  ...   \n",
       "10844                       0                     0                0  ...   \n",
       "\n",
       "       category_meat  category_medicine  category_packaged foods  \\\n",
       "0                  0                  0                        0   \n",
       "1                  0                  0                        0   \n",
       "2                  0                  0                        0   \n",
       "3                  0                  0                        0   \n",
       "4                  0                  0                        0   \n",
       "...              ...                ...                      ...   \n",
       "10840              0                  0                        0   \n",
       "10841              1                  0                        0   \n",
       "10842              0                  0                        1   \n",
       "10843              1                  0                        0   \n",
       "10844              0                  0                        0   \n",
       "\n",
       "       category_personal care  category_pets  category_refrigerated items  \\\n",
       "0                           0              0                            0   \n",
       "1                           0              0                            0   \n",
       "2                           0              0                            0   \n",
       "3                           0              0                            0   \n",
       "4                           0              1                            0   \n",
       "...                       ...            ...                          ...   \n",
       "10840                       0              0                            0   \n",
       "10841                       0              0                            0   \n",
       "10842                       0              0                            0   \n",
       "10843                       0              0                            0   \n",
       "10844                       0              0                            0   \n",
       "\n",
       "       category_seafood  category_snacks  category_spices and herbs  \\\n",
       "0                     0                0                          0   \n",
       "1                     0                0                          0   \n",
       "2                     0                0                          0   \n",
       "3                     0                0                          0   \n",
       "4                     0                0                          0   \n",
       "...                 ...              ...                        ...   \n",
       "10840                 0                0                          0   \n",
       "10841                 0                0                          0   \n",
       "10842                 0                0                          0   \n",
       "10843                 0                0                          0   \n",
       "10844                 0                0                          0   \n",
       "\n",
       "       category_vegetables  \n",
       "0                        0  \n",
       "1                        1  \n",
       "2                        0  \n",
       "3                        0  \n",
       "4                        0  \n",
       "...                    ...  \n",
       "10840                    0  \n",
       "10841                    0  \n",
       "10842                    0  \n",
       "10843                    0  \n",
       "10844                    0  \n",
       "\n",
       "[10845 rows x 29 columns]"
      ]
     },
     "execution_count": 38,
     "metadata": {},
     "output_type": "execute_result"
    }
   ],
   "source": [
    "merged"
   ]
  },
  {
   "cell_type": "markdown",
   "id": "685593e3-970a-40a3-bda3-2319958cfac6",
   "metadata": {},
   "source": [
    "# Model Building:\n",
    "\n",
    "Now it is time to train a machine learning model. We will use a supervised machine learning model, and we will use estimated_stock_pct as the target variable, since the problem statement was focused on being able to predict the stock levels of products on an hourly basis. Linear regression may not be the best model for predicting estimated stock levels, as it assumes a linear relationship between the target variable and the features, therefore Random forest regressor is used.\n",
    "\n",
    "While training the machine learning model, we will use cross-validation, which is a technique used in machine learning to evaluate the performance of a model and to select the best model parameters or hyperparameters. In Cross-validation the data is split into multiple subsets, or folds, and then the model is trained on each subset, using the remaining folds as a validation set. The model's performance is then measured by calculating the average performance across all folds.\n",
    "\n",
    "Here we use k-fold method. In k-fold cross-validation, the data is split into k subsets, and the model is trained on k-1 folds and validated on the remaining fold. This process is repeated k times, with each fold serving as the validation set exactly once. The final performance is then calculated by averaging the performance across all k folds.\n",
    "\n",
    "Cross-validation helps to mitigate the problem of overfitting, which occurs when a model is too complex and performs well on the training data but poorly on new data"
   ]
  },
  {
   "cell_type": "markdown",
   "id": "62276b82-e863-45cf-9b6f-17f34dd48821",
   "metadata": {},
   "source": [
    "- Our target feature is estimated stock product.\n",
    "- The first step is to separate features from the target and store it in a different variable."
   ]
  },
  {
   "cell_type": "code",
   "execution_count": 39,
   "id": "abcd9150-520b-40db-b10c-19c0b05eaaa9",
   "metadata": {},
   "outputs": [
    {
     "name": "stdout",
     "output_type": "stream",
     "text": [
      "(10845, 28)\n",
      "(10845,)\n"
     ]
    }
   ],
   "source": [
    "X = merged.drop(columns=['estimated_stock_pct'])  # Variable to store all the features (Independant variables)\n",
    "y = merged['estimated_stock_pct']                 # Variable to store only the target (Dependant variable)\n",
    "print(X.shape)\n",
    "print(y.shape)"
   ]
  },
  {
   "cell_type": "code",
   "execution_count": 40,
   "id": "a60a861d-a1b9-4b04-8936-5caf96b0938f",
   "metadata": {},
   "outputs": [],
   "source": [
    "X_train, X_test, y_train, y_test = train_test_split(X,y, test_size=0.2)"
   ]
  },
  {
   "cell_type": "code",
   "execution_count": 41,
   "id": "9ee01116-f91c-4181-b4da-cd9f9a08ab0b",
   "metadata": {},
   "outputs": [
    {
     "name": "stdout",
     "output_type": "stream",
     "text": [
      "(8676, 28)\n",
      "(2169, 28)\n",
      "(8676,)\n",
      "(2169,)\n"
     ]
    }
   ],
   "source": [
    "print(X_train.shape)\n",
    "print(X_test.shape)\n",
    "print(y_train.shape)\n",
    "print(y_test.shape)"
   ]
  },
  {
   "cell_type": "code",
   "execution_count": 43,
   "id": "bd9ebfae-52ac-49ff-966e-5d73c916d1f9",
   "metadata": {},
   "outputs": [],
   "source": [
    "X_train, X_test, y_train, y_test = train_test_split(X,y, train_size=split, random_state = 42)"
   ]
  },
  {
   "cell_type": "code",
   "execution_count": 44,
   "id": "9c0d8893-7e9d-4271-bea3-4b3845955f6e",
   "metadata": {},
   "outputs": [
    {
     "name": "stdout",
     "output_type": "stream",
     "text": [
      "(8133, 28)\n",
      "(2712, 28)\n",
      "(8133,)\n",
      "(2712,)\n"
     ]
    }
   ],
   "source": [
    "print(X_train.shape)\n",
    "print(X_test.shape)\n",
    "print(y_train.shape)\n",
    "print(y_test.shape)"
   ]
  },
  {
   "cell_type": "code",
   "execution_count": 45,
   "id": "46f4edac-758c-47a9-bc1f-0a452c6f3dd3",
   "metadata": {},
   "outputs": [
    {
     "data": {
      "text/html": [
       "<style>#sk-container-id-1 {color: black;background-color: white;}#sk-container-id-1 pre{padding: 0;}#sk-container-id-1 div.sk-toggleable {background-color: white;}#sk-container-id-1 label.sk-toggleable__label {cursor: pointer;display: block;width: 100%;margin-bottom: 0;padding: 0.3em;box-sizing: border-box;text-align: center;}#sk-container-id-1 label.sk-toggleable__label-arrow:before {content: \"▸\";float: left;margin-right: 0.25em;color: #696969;}#sk-container-id-1 label.sk-toggleable__label-arrow:hover:before {color: black;}#sk-container-id-1 div.sk-estimator:hover label.sk-toggleable__label-arrow:before {color: black;}#sk-container-id-1 div.sk-toggleable__content {max-height: 0;max-width: 0;overflow: hidden;text-align: left;background-color: #f0f8ff;}#sk-container-id-1 div.sk-toggleable__content pre {margin: 0.2em;color: black;border-radius: 0.25em;background-color: #f0f8ff;}#sk-container-id-1 input.sk-toggleable__control:checked~div.sk-toggleable__content {max-height: 200px;max-width: 100%;overflow: auto;}#sk-container-id-1 input.sk-toggleable__control:checked~label.sk-toggleable__label-arrow:before {content: \"▾\";}#sk-container-id-1 div.sk-estimator input.sk-toggleable__control:checked~label.sk-toggleable__label {background-color: #d4ebff;}#sk-container-id-1 div.sk-label input.sk-toggleable__control:checked~label.sk-toggleable__label {background-color: #d4ebff;}#sk-container-id-1 input.sk-hidden--visually {border: 0;clip: rect(1px 1px 1px 1px);clip: rect(1px, 1px, 1px, 1px);height: 1px;margin: -1px;overflow: hidden;padding: 0;position: absolute;width: 1px;}#sk-container-id-1 div.sk-estimator {font-family: monospace;background-color: #f0f8ff;border: 1px dotted black;border-radius: 0.25em;box-sizing: border-box;margin-bottom: 0.5em;}#sk-container-id-1 div.sk-estimator:hover {background-color: #d4ebff;}#sk-container-id-1 div.sk-parallel-item::after {content: \"\";width: 100%;border-bottom: 1px solid gray;flex-grow: 1;}#sk-container-id-1 div.sk-label:hover label.sk-toggleable__label {background-color: #d4ebff;}#sk-container-id-1 div.sk-serial::before {content: \"\";position: absolute;border-left: 1px solid gray;box-sizing: border-box;top: 0;bottom: 0;left: 50%;z-index: 0;}#sk-container-id-1 div.sk-serial {display: flex;flex-direction: column;align-items: center;background-color: white;padding-right: 0.2em;padding-left: 0.2em;position: relative;}#sk-container-id-1 div.sk-item {position: relative;z-index: 1;}#sk-container-id-1 div.sk-parallel {display: flex;align-items: stretch;justify-content: center;background-color: white;position: relative;}#sk-container-id-1 div.sk-item::before, #sk-container-id-1 div.sk-parallel-item::before {content: \"\";position: absolute;border-left: 1px solid gray;box-sizing: border-box;top: 0;bottom: 0;left: 50%;z-index: -1;}#sk-container-id-1 div.sk-parallel-item {display: flex;flex-direction: column;z-index: 1;position: relative;background-color: white;}#sk-container-id-1 div.sk-parallel-item:first-child::after {align-self: flex-end;width: 50%;}#sk-container-id-1 div.sk-parallel-item:last-child::after {align-self: flex-start;width: 50%;}#sk-container-id-1 div.sk-parallel-item:only-child::after {width: 0;}#sk-container-id-1 div.sk-dashed-wrapped {border: 1px dashed gray;margin: 0 0.4em 0.5em 0.4em;box-sizing: border-box;padding-bottom: 0.4em;background-color: white;}#sk-container-id-1 div.sk-label label {font-family: monospace;font-weight: bold;display: inline-block;line-height: 1.2em;}#sk-container-id-1 div.sk-label-container {text-align: center;}#sk-container-id-1 div.sk-container {/* jupyter's `normalize.less` sets `[hidden] { display: none; }` but bootstrap.min.css set `[hidden] { display: none !important; }` so we also need the `!important` here to be able to override the default hidden behavior on the sphinx rendered scikit-learn.org. See: https://github.com/scikit-learn/scikit-learn/issues/21755 */display: inline-block !important;position: relative;}#sk-container-id-1 div.sk-text-repr-fallback {display: none;}</style><div id=\"sk-container-id-1\" class=\"sk-top-container\"><div class=\"sk-text-repr-fallback\"><pre>RandomForestRegressor()</pre><b>In a Jupyter environment, please rerun this cell to show the HTML representation or trust the notebook. <br />On GitHub, the HTML representation is unable to render, please try loading this page with nbviewer.org.</b></div><div class=\"sk-container\" hidden><div class=\"sk-item\"><div class=\"sk-estimator sk-toggleable\"><input class=\"sk-toggleable__control sk-hidden--visually\" id=\"sk-estimator-id-1\" type=\"checkbox\" checked><label for=\"sk-estimator-id-1\" class=\"sk-toggleable__label sk-toggleable__label-arrow\">RandomForestRegressor</label><div class=\"sk-toggleable__content\"><pre>RandomForestRegressor()</pre></div></div></div></div></div>"
      ],
      "text/plain": [
       "RandomForestRegressor()"
      ]
     },
     "execution_count": 45,
     "metadata": {},
     "output_type": "execute_result"
    }
   ],
   "source": [
    "model = RandomForestRegressor()\n",
    "\n",
    "model.fit(X_train, y_train)"
   ]
  },
  {
   "cell_type": "code",
   "execution_count": 46,
   "id": "338e7dc6-fdc8-45af-9188-a889f43ec88b",
   "metadata": {},
   "outputs": [
    {
     "data": {
      "text/plain": [
       "array([0.45639583, 0.34606667, 0.41893333, ..., 0.43268333, 0.67865   ,\n",
       "       0.50686667])"
      ]
     },
     "execution_count": 46,
     "metadata": {},
     "output_type": "execute_result"
    }
   ],
   "source": [
    "y_hat = model.predict(X_test)\n",
    "y_hat"
   ]
  },
  {
   "cell_type": "code",
   "execution_count": 47,
   "id": "4814c550-3138-4fb8-8c6a-9f23a54f99ae",
   "metadata": {},
   "outputs": [
    {
     "data": {
      "text/plain": [
       "0.08072098291825029"
      ]
     },
     "execution_count": 47,
     "metadata": {},
     "output_type": "execute_result"
    }
   ],
   "source": [
    "from sklearn.metrics import mean_squared_error\n",
    "error = mean_squared_error(y_test, y_hat)\n",
    "error"
   ]
  },
  {
   "cell_type": "code",
   "execution_count": 48,
   "id": "8425d723-dd67-40b3-afab-5ca1ad4ef121",
   "metadata": {},
   "outputs": [
    {
     "data": {
      "text/plain": [
       "0.2363254085891575"
      ]
     },
     "execution_count": 48,
     "metadata": {},
     "output_type": "execute_result"
    }
   ],
   "source": [
    "from sklearn.metrics import mean_squared_error\n",
    "error2 = mean_absolute_error(y_test, y_hat)\n",
    "error2"
   ]
  },
  {
   "cell_type": "markdown",
   "id": "f80e7a2f-4dfa-4e78-bddd-88c3a37297cd",
   "metadata": {},
   "source": [
    "# For identifying important features\n"
   ]
  },
  {
   "cell_type": "markdown",
   "id": "d3da75eb-7538-475d-8fc5-801d4f4530df",
   "metadata": {},
   "source": [
    "model.feature_importances_ is an attribute that can be accessed after training a supervised learning model (such as a decision tree, random forest, or gradient boosting model) in scikit-learn library in Python. It returns an array of values that represent the importance of each feature in the trained model.\n",
    "\n",
    "The importance of a feature is a measure of how much the inclusion of that feature improved the predictive power of the model. It is calculated by evaluating the decrease in impurity or the increase in accuracy that results from splitting on that feature in the decision tree or ensemble of trees. The sum of all feature importances is equal to 1.0.\n",
    "\n",
    "By analyzing the feature importances, we can gain insights into which features are the most relevant or informative for making predictions in the model. This information can be useful for feature selection or feature engineering tasks, as well as for understanding the underlying relationship between the features and the target variable."
   ]
  },
  {
   "cell_type": "code",
   "execution_count": 73,
   "id": "461ec2c8-c60a-4235-8d41-6565340b9569",
   "metadata": {
    "tags": []
   },
   "outputs": [
    {
     "data": {
      "image/png": "[encoded data removed]",
      "text/plain": [
       "<Figure size 1000x2000 with 1 Axes>"
      ]
     },
     "metadata": {},
     "output_type": "display_data"
    }
   ],
   "source": [
    "features = [i.split(\"__\")[0] for i in X.columns]\n",
    "importances = model.feature_importances_\n",
    "indices = np.argsort(importances)\n",
    "\n",
    "fig, ax = plt.subplots(figsize=(10, 20))\n",
    "plt.title('Feature Importances')\n",
    "plt.barh(range(len(indices)), importances[indices], color='b', align ='center')\n",
    "plt.yticks(range(len(indices)), [features[i] for i in indices])\n",
    "plt.xlabel('Relative Importance')\n",
    "plt.show()"
   ]
  },
  {
   "cell_type": "code",
   "execution_count": 52,
   "id": "1115bbe9-fb3f-4ae2-a5b9-27a1052b28dd",
   "metadata": {},
   "outputs": [
    {
     "data": {
      "text/plain": [
       "Index(['quantity', 'temperature', 'unit_price', 'timestamp_day_of_month',\n",
       "       'timestamp_day_of_week', 'timestamp_hour', 'category_baby products',\n",
       "       'category_baked goods', 'category_baking', 'category_beverages',\n",
       "       'category_canned foods', 'category_cheese',\n",
       "       'category_cleaning products', 'category_condiments and sauces',\n",
       "       'category_dairy', 'category_frozen', 'category_fruit',\n",
       "       'category_kitchen', 'category_meat', 'category_medicine',\n",
       "       'category_packaged foods', 'category_personal care', 'category_pets',\n",
       "       'category_refrigerated items', 'category_seafood', 'category_snacks',\n",
       "       'category_spices and herbs', 'category_vegetables'],\n",
       "      dtype='object')"
      ]
     },
     "execution_count": 52,
     "metadata": {},
     "output_type": "execute_result"
    }
   ],
   "source": [
    "(X.columns)"
   ]
  },
  {
   "cell_type": "code",
   "execution_count": 51,
   "id": "2b6f1022-54a4-468e-a955-0ca996fa7028",
   "metadata": {},
   "outputs": [
    {
     "data": {
      "text/plain": [
       "array([0.08066946, 0.17089356, 0.28060152, 0.05022925, 0.05130424,\n",
       "       0.1102264 , 0.01294042, 0.01465327, 0.01238952, 0.0140013 ,\n",
       "       0.01245563, 0.01352361, 0.01367379, 0.01292845, 0.01003082,\n",
       "       0.01528303, 0.0073702 , 0.01043019, 0.00958895, 0.00987967,\n",
       "       0.01106628, 0.01522373, 0.010662  , 0.01196034, 0.00979812,\n",
       "       0.00972202, 0.01056933, 0.00792489])"
      ]
     },
     "execution_count": 51,
     "metadata": {},
     "output_type": "execute_result"
    }
   ],
   "source": [
    "model.feature_importances_"
   ]
  },
  {
   "cell_type": "code",
   "execution_count": 53,
   "id": "2060d193-4b75-4c5d-88ad-c6bab8159244",
   "metadata": {},
   "outputs": [
    {
     "data": {
      "image/png": "[encoded data removed]",
      "text/plain": [
       "<Figure size 600x600 with 1 Axes>"
      ]
     },
     "metadata": {},
     "output_type": "display_data"
    }
   ],
   "source": [
    "import numpy as np\n",
    "import matplotlib.pyplot as plt\n",
    "\n",
    "# create a dictionary with feature importances\n",
    "importances_dict = dict(zip(X.columns, model.feature_importances_))\n",
    "\n",
    "# sort the dictionary in descending order\n",
    "importances_sorted = {k: v for k, v in sorted(importances_dict.items(), key=lambda item: item[1], reverse=True)}\n",
    "\n",
    "top_importances = list(importances_sorted.values())[:6]\n",
    "top_labels = list(importances_sorted.keys())[:6]\n",
    "\n",
    "# create a pie chart\n",
    "plt.figure(figsize=(6,6))\n",
    "plt.title(\"Top 6 Feature Importances\")\n",
    "plt.pie(top_importances, labels=top_labels, autopct='%1.1f%%', startangle=90, pctdistance=0.5)\n",
    "plt.axis('equal')\n",
    "plt.tight_layout()\n",
    "plt.show()"
   ]
  },
  {
   "cell_type": "code",
   "execution_count": 58,
   "id": "8c465bbe-be81-4933-b490-9582a2bcc130",
   "metadata": {},
   "outputs": [
    {
     "data": {
      "text/plain": [
       "array([16, 27, 18, 25, 24, 19], dtype=int64)"
      ]
     },
     "execution_count": 58,
     "metadata": {},
     "output_type": "execute_result"
    }
   ],
   "source": [
    "np.argsort(model.feature_importances_)[0:6]"
   ]
  },
  {
   "cell_type": "code",
   "execution_count": 55,
   "id": "5bb45044-5735-46b9-8494-d8b7002b3232",
   "metadata": {},
   "outputs": [
    {
     "data": {
      "text/plain": [
       "Index(['quantity', 'temperature', 'unit_price', 'timestamp_day_of_month',\n",
       "       'timestamp_day_of_week', 'timestamp_hour'],\n",
       "      dtype='object')"
      ]
     },
     "execution_count": 55,
     "metadata": {},
     "output_type": "execute_result"
    }
   ],
   "source": [
    "X.columns[0:6]"
   ]
  },
  {
   "cell_type": "code",
   "execution_count": 60,
   "id": "11a54adb-fa49-4713-bcba-04f29588d6fb",
   "metadata": {},
   "outputs": [
    {
     "data": {
      "text/plain": [
       "28"
      ]
     },
     "execution_count": 60,
     "metadata": {},
     "output_type": "execute_result"
    }
   ],
   "source": [
    "len(X.columns)"
   ]
  },
  {
   "cell_type": "code",
   "execution_count": 61,
   "id": "d77b711b-0e37-40eb-863b-4931f75a8515",
   "metadata": {},
   "outputs": [
    {
     "data": {
      "text/plain": [
       "28"
      ]
     },
     "execution_count": 61,
     "metadata": {},
     "output_type": "execute_result"
    }
   ],
   "source": [
    "len(model.feature_importances_)"
   ]
  },
  {
   "cell_type": "markdown",
   "id": "ad8a2e5e-b83f-42ce-8e8c-09c6bf98f3df",
   "metadata": {},
   "source": [
    "Below are the features that are most important in predicting the stock levels."
   ]
  },
  {
   "cell_type": "code",
   "execution_count": 86,
   "id": "30f0d16d-1dd7-4f1a-a272-8d7a9abb560e",
   "metadata": {},
   "outputs": [
    {
     "name": "stdout",
     "output_type": "stream",
     "text": [
      "[('unit_price', 0.2806015244343718), ('temperature', 0.1708935577426962), ('timestamp_hour', 0.11022639687135204), ('quantity', 0.08066946272475332), ('timestamp_day_of_week', 0.05130423557658695), ('timestamp_day_of_month', 0.05022924854613638)]\n"
     ]
    }
   ],
   "source": [
    "list_of_features = list(zip(X.columns, model.feature_importances_))\n",
    "sorted_values = sorted(list_of_features, key=lambda x: x[1], reverse = True)[0:6]\n",
    "\n",
    "# Print the sorted list\n",
    "print(sorted_values)"
   ]
  },
  {
   "cell_type": "markdown",
   "id": "8607e188-dc7f-4818-813b-3d06295cc964",
   "metadata": {},
   "source": [
    "# Conclusion:\n",
    "The features that are important to predict the stock levels of products are :\n",
    "1. Unit price of the product\n",
    "2. Temperature details obtained from sensor storage temperature dataset also plays a vital role\n",
    "3. The time of the day also helps in predicting stock levels.\n",
    "4. Followed by quantity of products that were sold.\n",
    "\n",
    "Different Categories of products doesn’t play any important role\n"
   ]
  },
  {
   "cell_type": "code",
   "execution_count": null,
   "id": "0db32200-9892-420c-8d87-ae86c57adafe",
   "metadata": {},
   "outputs": [],
   "source": []
  }
 ],
 "metadata": {
  "kernelspec": {
   "display_name": "Python 3 (ipykernel)",
   "language": "python",
   "name": "python3"
  },
  "language_info": {
   "codemirror_mode": {
    "name": "ipython",
    "version": 3
   },
   "file_extension": ".py",
   "mimetype": "text/x-python",
   "name": "python",
   "nbconvert_exporter": "python",
   "pygments_lexer": "ipython3",
   "version": "3.10.8"
  }
 },
 "nbformat": 4,
 "nbformat_minor": 5
}
